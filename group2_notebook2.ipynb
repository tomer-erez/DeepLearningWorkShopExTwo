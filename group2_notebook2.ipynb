{
  "cells": [
    {
      "cell_type": "markdown",
      "metadata": {},
      "source": [
        "Shahar Dvir\n",
        "\n",
        "Tomer Erez\n",
        "\n",
        "Tal Sadot\n",
        "\n",
        "Gal Mishan\n"
      ]
    },
    {
      "cell_type": "markdown",
      "metadata": {},
      "source": [
        "loading the data"
      ]
    },
    {
      "cell_type": "code",
      "execution_count": 1,
      "metadata": {
        "id": "3xhxpk5XCLKu"
      },
      "outputs": [],
      "source": [
        "import pandas as pd\n",
        "base_train_df = pd.read_csv('https://raw.githubusercontent.com/odedovadia/AdvancedMLDLCourse/main/Assignments/Assignment%20II%20-%20NLP/train.csv')\n",
        "train_df = pd.read_csv('https://raw.githubusercontent.com/odedovadia/AdvancedMLDLCourse/main/Assignments/Assignment%20II%20-%20NLP/train.csv')\n"
      ]
    },
    {
      "cell_type": "code",
      "execution_count": 2,
      "metadata": {
        "colab": {
          "base_uri": "https://localhost:8080/",
          "height": 206
        },
        "id": "JhBoTdLJI1TR",
        "outputId": "a1aa9a23-d99e-42f3-d41c-56a699a51e92"
      },
      "outputs": [
        {
          "data": {
            "application/vnd.google.colaboratory.intrinsic+json": {
              "summary": "{\n  \"name\": \"train_df\",\n  \"rows\": 70405,\n  \"fields\": [\n    {\n      \"column\": \"Dialogue\",\n      \"properties\": {\n        \"dtype\": \"string\",\n        \"num_unique_values\": 62770,\n        \"samples\": [\n          \" Naked alone time.\",\n          \" You know what, he's a big boy, I'm sure he'll find us, ok?\",\n          \" Sweetie, this conversation is starting to make me a little uncomfortable.\"\n        ],\n        \"semantic_type\": \"\",\n        \"description\": \"\"\n      }\n    },\n    {\n      \"column\": \"Character\",\n      \"properties\": {\n        \"dtype\": \"category\",\n        \"num_unique_values\": 10,\n        \"samples\": [\n          \"rachel\",\n          \"phoebe\",\n          \"monica\"\n        ],\n        \"semantic_type\": \"\",\n        \"description\": \"\"\n      }\n    },\n    {\n      \"column\": \"Episode\",\n      \"properties\": {\n        \"dtype\": \"category\",\n        \"num_unique_values\": 398,\n        \"samples\": [\n          \"Season-09 Episode-18-The One With The Lottery\",\n          \"Season-02 Episode-02-The One With the Breast Milk\",\n          \"Season-01 Episode-01-The One Where Monica Gets a New Roommate (The Pilot)\"\n        ],\n        \"semantic_type\": \"\",\n        \"description\": \"\"\n      }\n    },\n    {\n      \"column\": \"Show\",\n      \"properties\": {\n        \"dtype\": \"category\",\n        \"num_unique_values\": 2,\n        \"samples\": [\n          \"Seinfeld\",\n          \"Friends\"\n        ],\n        \"semantic_type\": \"\",\n        \"description\": \"\"\n      }\n    },\n    {\n      \"column\": \"Dialogue_length\",\n      \"properties\": {\n        \"dtype\": \"number\",\n        \"std\": 12,\n        \"min\": 1,\n        \"max\": 363,\n        \"num_unique_values\": 163,\n        \"samples\": [\n          182,\n          154\n        ],\n        \"semantic_type\": \"\",\n        \"description\": \"\"\n      }\n    }\n  ]\n}",
              "type": "dataframe",
              "variable_name": "train_df"
            },
            "text/html": [
              "\n",
              "  <div id=\"df-a2cd0123-432e-424c-bbb9-aee64c4cb549\" class=\"colab-df-container\">\n",
              "    <div>\n",
              "<style scoped>\n",
              "    .dataframe tbody tr th:only-of-type {\n",
              "        vertical-align: middle;\n",
              "    }\n",
              "\n",
              "    .dataframe tbody tr th {\n",
              "        vertical-align: top;\n",
              "    }\n",
              "\n",
              "    .dataframe thead th {\n",
              "        text-align: right;\n",
              "    }\n",
              "</style>\n",
              "<table border=\"1\" class=\"dataframe\">\n",
              "  <thead>\n",
              "    <tr style=\"text-align: right;\">\n",
              "      <th></th>\n",
              "      <th>Dialogue</th>\n",
              "      <th>Character</th>\n",
              "      <th>Episode</th>\n",
              "      <th>Show</th>\n",
              "      <th>Dialogue_length</th>\n",
              "    </tr>\n",
              "  </thead>\n",
              "  <tbody>\n",
              "    <tr>\n",
              "      <th>0</th>\n",
              "      <td>Hey.</td>\n",
              "      <td>joey</td>\n",
              "      <td>Season-07 Episode-13-The One Where Rosita Dies</td>\n",
              "      <td>Friends</td>\n",
              "      <td>1</td>\n",
              "    </tr>\n",
              "    <tr>\n",
              "      <th>1</th>\n",
              "      <td>(to Joey) Are you gonna be embarrassed going ...</td>\n",
              "      <td>phoebe</td>\n",
              "      <td>Season-10 Episode-04-The One With The Cake</td>\n",
              "      <td>Friends</td>\n",
              "      <td>13</td>\n",
              "    </tr>\n",
              "    <tr>\n",
              "      <th>2</th>\n",
              "      <td>Me? No no no, you. You're gonna tell him. I'm ...</td>\n",
              "      <td>elaine</td>\n",
              "      <td>S03E22</td>\n",
              "      <td>Seinfeld</td>\n",
              "      <td>14</td>\n",
              "    </tr>\n",
              "    <tr>\n",
              "      <th>3</th>\n",
              "      <td>Alright you guys are off to party number one ...</td>\n",
              "      <td>chandler</td>\n",
              "      <td>Season-02 Episode-22-The One With the Two Parties</td>\n",
              "      <td>Friends</td>\n",
              "      <td>56</td>\n",
              "    </tr>\n",
              "    <tr>\n",
              "      <th>4</th>\n",
              "      <td>Am I? Or am I so sane that you just blew your ...</td>\n",
              "      <td>kramer</td>\n",
              "      <td>S05E12</td>\n",
              "      <td>Seinfeld</td>\n",
              "      <td>13</td>\n",
              "    </tr>\n",
              "  </tbody>\n",
              "</table>\n",
              "</div>\n",
              "    <div class=\"colab-df-buttons\">\n",
              "\n",
              "  <div class=\"colab-df-container\">\n",
              "    <button class=\"colab-df-convert\" onclick=\"convertToInteractive('df-a2cd0123-432e-424c-bbb9-aee64c4cb549')\"\n",
              "            title=\"Convert this dataframe to an interactive table.\"\n",
              "            style=\"display:none;\">\n",
              "\n",
              "  <svg xmlns=\"http://www.w3.org/2000/svg\" height=\"24px\" viewBox=\"0 -960 960 960\">\n",
              "    <path d=\"M120-120v-720h720v720H120Zm60-500h600v-160H180v160Zm220 220h160v-160H400v160Zm0 220h160v-160H400v160ZM180-400h160v-160H180v160Zm440 0h160v-160H620v160ZM180-180h160v-160H180v160Zm440 0h160v-160H620v160Z\"/>\n",
              "  </svg>\n",
              "    </button>\n",
              "\n",
              "  <style>\n",
              "    .colab-df-container {\n",
              "      display:flex;\n",
              "      gap: 12px;\n",
              "    }\n",
              "\n",
              "    .colab-df-convert {\n",
              "      background-color: #E8F0FE;\n",
              "      border: none;\n",
              "      border-radius: 50%;\n",
              "      cursor: pointer;\n",
              "      display: none;\n",
              "      fill: #1967D2;\n",
              "      height: 32px;\n",
              "      padding: 0 0 0 0;\n",
              "      width: 32px;\n",
              "    }\n",
              "\n",
              "    .colab-df-convert:hover {\n",
              "      background-color: #E2EBFA;\n",
              "      box-shadow: 0px 1px 2px rgba(60, 64, 67, 0.3), 0px 1px 3px 1px rgba(60, 64, 67, 0.15);\n",
              "      fill: #174EA6;\n",
              "    }\n",
              "\n",
              "    .colab-df-buttons div {\n",
              "      margin-bottom: 4px;\n",
              "    }\n",
              "\n",
              "    [theme=dark] .colab-df-convert {\n",
              "      background-color: #3B4455;\n",
              "      fill: #D2E3FC;\n",
              "    }\n",
              "\n",
              "    [theme=dark] .colab-df-convert:hover {\n",
              "      background-color: #434B5C;\n",
              "      box-shadow: 0px 1px 3px 1px rgba(0, 0, 0, 0.15);\n",
              "      filter: drop-shadow(0px 1px 2px rgba(0, 0, 0, 0.3));\n",
              "      fill: #FFFFFF;\n",
              "    }\n",
              "  </style>\n",
              "\n",
              "    <script>\n",
              "      const buttonEl =\n",
              "        document.querySelector('#df-a2cd0123-432e-424c-bbb9-aee64c4cb549 button.colab-df-convert');\n",
              "      buttonEl.style.display =\n",
              "        google.colab.kernel.accessAllowed ? 'block' : 'none';\n",
              "\n",
              "      async function convertToInteractive(key) {\n",
              "        const element = document.querySelector('#df-a2cd0123-432e-424c-bbb9-aee64c4cb549');\n",
              "        const dataTable =\n",
              "          await google.colab.kernel.invokeFunction('convertToInteractive',\n",
              "                                                    [key], {});\n",
              "        if (!dataTable) return;\n",
              "\n",
              "        const docLinkHtml = 'Like what you see? Visit the ' +\n",
              "          '<a target=\"_blank\" href=https://colab.research.google.com/notebooks/data_table.ipynb>data table notebook</a>'\n",
              "          + ' to learn more about interactive tables.';\n",
              "        element.innerHTML = '';\n",
              "        dataTable['output_type'] = 'display_data';\n",
              "        await google.colab.output.renderOutput(dataTable, element);\n",
              "        const docLink = document.createElement('div');\n",
              "        docLink.innerHTML = docLinkHtml;\n",
              "        element.appendChild(docLink);\n",
              "      }\n",
              "    </script>\n",
              "  </div>\n",
              "\n",
              "\n",
              "<div id=\"df-5a5a0b4c-77c3-4452-8cfc-159ba9a94c46\">\n",
              "  <button class=\"colab-df-quickchart\" onclick=\"quickchart('df-5a5a0b4c-77c3-4452-8cfc-159ba9a94c46')\"\n",
              "            title=\"Suggest charts\"\n",
              "            style=\"display:none;\">\n",
              "\n",
              "<svg xmlns=\"http://www.w3.org/2000/svg\" height=\"24px\"viewBox=\"0 0 24 24\"\n",
              "     width=\"24px\">\n",
              "    <g>\n",
              "        <path d=\"M19 3H5c-1.1 0-2 .9-2 2v14c0 1.1.9 2 2 2h14c1.1 0 2-.9 2-2V5c0-1.1-.9-2-2-2zM9 17H7v-7h2v7zm4 0h-2V7h2v10zm4 0h-2v-4h2v4z\"/>\n",
              "    </g>\n",
              "</svg>\n",
              "  </button>\n",
              "\n",
              "<style>\n",
              "  .colab-df-quickchart {\n",
              "      --bg-color: #E8F0FE;\n",
              "      --fill-color: #1967D2;\n",
              "      --hover-bg-color: #E2EBFA;\n",
              "      --hover-fill-color: #174EA6;\n",
              "      --disabled-fill-color: #AAA;\n",
              "      --disabled-bg-color: #DDD;\n",
              "  }\n",
              "\n",
              "  [theme=dark] .colab-df-quickchart {\n",
              "      --bg-color: #3B4455;\n",
              "      --fill-color: #D2E3FC;\n",
              "      --hover-bg-color: #434B5C;\n",
              "      --hover-fill-color: #FFFFFF;\n",
              "      --disabled-bg-color: #3B4455;\n",
              "      --disabled-fill-color: #666;\n",
              "  }\n",
              "\n",
              "  .colab-df-quickchart {\n",
              "    background-color: var(--bg-color);\n",
              "    border: none;\n",
              "    border-radius: 50%;\n",
              "    cursor: pointer;\n",
              "    display: none;\n",
              "    fill: var(--fill-color);\n",
              "    height: 32px;\n",
              "    padding: 0;\n",
              "    width: 32px;\n",
              "  }\n",
              "\n",
              "  .colab-df-quickchart:hover {\n",
              "    background-color: var(--hover-bg-color);\n",
              "    box-shadow: 0 1px 2px rgba(60, 64, 67, 0.3), 0 1px 3px 1px rgba(60, 64, 67, 0.15);\n",
              "    fill: var(--button-hover-fill-color);\n",
              "  }\n",
              "\n",
              "  .colab-df-quickchart-complete:disabled,\n",
              "  .colab-df-quickchart-complete:disabled:hover {\n",
              "    background-color: var(--disabled-bg-color);\n",
              "    fill: var(--disabled-fill-color);\n",
              "    box-shadow: none;\n",
              "  }\n",
              "\n",
              "  .colab-df-spinner {\n",
              "    border: 2px solid var(--fill-color);\n",
              "    border-color: transparent;\n",
              "    border-bottom-color: var(--fill-color);\n",
              "    animation:\n",
              "      spin 1s steps(1) infinite;\n",
              "  }\n",
              "\n",
              "  @keyframes spin {\n",
              "    0% {\n",
              "      border-color: transparent;\n",
              "      border-bottom-color: var(--fill-color);\n",
              "      border-left-color: var(--fill-color);\n",
              "    }\n",
              "    20% {\n",
              "      border-color: transparent;\n",
              "      border-left-color: var(--fill-color);\n",
              "      border-top-color: var(--fill-color);\n",
              "    }\n",
              "    30% {\n",
              "      border-color: transparent;\n",
              "      border-left-color: var(--fill-color);\n",
              "      border-top-color: var(--fill-color);\n",
              "      border-right-color: var(--fill-color);\n",
              "    }\n",
              "    40% {\n",
              "      border-color: transparent;\n",
              "      border-right-color: var(--fill-color);\n",
              "      border-top-color: var(--fill-color);\n",
              "    }\n",
              "    60% {\n",
              "      border-color: transparent;\n",
              "      border-right-color: var(--fill-color);\n",
              "    }\n",
              "    80% {\n",
              "      border-color: transparent;\n",
              "      border-right-color: var(--fill-color);\n",
              "      border-bottom-color: var(--fill-color);\n",
              "    }\n",
              "    90% {\n",
              "      border-color: transparent;\n",
              "      border-bottom-color: var(--fill-color);\n",
              "    }\n",
              "  }\n",
              "</style>\n",
              "\n",
              "  <script>\n",
              "    async function quickchart(key) {\n",
              "      const quickchartButtonEl =\n",
              "        document.querySelector('#' + key + ' button');\n",
              "      quickchartButtonEl.disabled = true;  // To prevent multiple clicks.\n",
              "      quickchartButtonEl.classList.add('colab-df-spinner');\n",
              "      try {\n",
              "        const charts = await google.colab.kernel.invokeFunction(\n",
              "            'suggestCharts', [key], {});\n",
              "      } catch (error) {\n",
              "        console.error('Error during call to suggestCharts:', error);\n",
              "      }\n",
              "      quickchartButtonEl.classList.remove('colab-df-spinner');\n",
              "      quickchartButtonEl.classList.add('colab-df-quickchart-complete');\n",
              "    }\n",
              "    (() => {\n",
              "      let quickchartButtonEl =\n",
              "        document.querySelector('#df-5a5a0b4c-77c3-4452-8cfc-159ba9a94c46 button');\n",
              "      quickchartButtonEl.style.display =\n",
              "        google.colab.kernel.accessAllowed ? 'block' : 'none';\n",
              "    })();\n",
              "  </script>\n",
              "</div>\n",
              "\n",
              "    </div>\n",
              "  </div>\n"
            ],
            "text/plain": [
              "                                            Dialogue Character  \\\n",
              "0                                               Hey.      joey   \n",
              "1   (to Joey) Are you gonna be embarrassed going ...    phoebe   \n",
              "2  Me? No no no, you. You're gonna tell him. I'm ...    elaine   \n",
              "3   Alright you guys are off to party number one ...  chandler   \n",
              "4  Am I? Or am I so sane that you just blew your ...    kramer   \n",
              "\n",
              "                                             Episode      Show  \\\n",
              "0     Season-07 Episode-13-The One Where Rosita Dies   Friends   \n",
              "1         Season-10 Episode-04-The One With The Cake   Friends   \n",
              "2                                             S03E22  Seinfeld   \n",
              "3  Season-02 Episode-22-The One With the Two Parties   Friends   \n",
              "4                                             S05E12  Seinfeld   \n",
              "\n",
              "   Dialogue_length  \n",
              "0                1  \n",
              "1               13  \n",
              "2               14  \n",
              "3               56  \n",
              "4               13  "
            ]
          },
          "execution_count": 2,
          "metadata": {},
          "output_type": "execute_result"
        }
      ],
      "source": [
        "train_df.head()"
      ]
    },
    {
      "cell_type": "markdown",
      "metadata": {
        "id": "a8czuPB8Lfj3"
      },
      "source": [
        "EDA"
      ]
    },
    {
      "cell_type": "code",
      "execution_count": 3,
      "metadata": {
        "colab": {
          "base_uri": "https://localhost:8080/"
        },
        "id": "IPnxCo6AJoP4",
        "outputId": "0b92ab96-3624-4ede-e77b-3b5641cf2b80"
      },
      "outputs": [
        {
          "data": {
            "text/plain": [
              "Friends     39092\n",
              "Seinfeld    31313\n",
              "Name: Show, dtype: int64"
            ]
          },
          "execution_count": 3,
          "metadata": {},
          "output_type": "execute_result"
        }
      ],
      "source": [
        "train_df['Show'].value_counts()"
      ]
    },
    {
      "cell_type": "code",
      "execution_count": 4,
      "metadata": {
        "colab": {
          "base_uri": "https://localhost:8080/"
        },
        "id": "xQHTl3-yJs0S",
        "outputId": "7b67baf5-becb-4fca-9744-8a37af5cf666"
      },
      "outputs": [
        {
          "data": {
            "text/plain": [
              "jerry       11767\n",
              "george       7781\n",
              "ross         7115\n",
              "rachel       6995\n",
              "joey         6434\n",
              "chandler     6432\n",
              "elaine       6380\n",
              "monica       6377\n",
              "phoebe       5739\n",
              "kramer       5385\n",
              "Name: Character, dtype: int64"
            ]
          },
          "execution_count": 4,
          "metadata": {},
          "output_type": "execute_result"
        }
      ],
      "source": [
        "train_df['Character'].value_counts()"
      ]
    },
    {
      "cell_type": "code",
      "execution_count": 5,
      "metadata": {
        "colab": {
          "base_uri": "https://localhost:8080/",
          "height": 511
        },
        "id": "1WdhK6wzLeev",
        "outputId": "9ab29482-6e47-4ce3-cc53-de959a27ba08"
      },
      "outputs": [
        {
          "data": {
            "image/png": "[encoded data removed]",
            "text/plain": [
              "<Figure size 640x480 with 1 Axes>"
            ]
          },
          "metadata": {},
          "output_type": "display_data"
        }
      ],
      "source": [
        "import matplotlib.pyplot as plt\n",
        "\n",
        "friends_characters = [\"ross\", \"rachel\", \"monica\", \"chandler\", \"joey\", \"phoebe\"]\n",
        "\n",
        "# Calculate average dialogue length for each character\n",
        "avg_dialogue_length = train_df.groupby('Character')['Dialogue_length'].mean()\n",
        "\n",
        "# Sort characters by average dialogue length\n",
        "avg_dialogue_length_sorted = avg_dialogue_length.sort_values()\n",
        "\n",
        "# Plot the histogram\n",
        "for character in avg_dialogue_length_sorted.index:\n",
        "    color = 'salmon' if character.lower() in friends_characters else 'skyblue'\n",
        "    plt.bar(character, avg_dialogue_length_sorted[character], color=color)\n",
        "\n",
        "plt.title('Average Dialogue Length for Each Character')\n",
        "plt.xlabel('Character')\n",
        "plt.ylabel('Average Dialogue Length')\n",
        "plt.xticks(rotation=45)\n",
        "plt.show()"
      ]
    },
    {
      "cell_type": "markdown",
      "metadata": {
        "id": "fIzGTPB5Awe2"
      },
      "source": [
        "exploring the appearnces of names in the dataset"
      ]
    },
    {
      "cell_type": "markdown",
      "metadata": {
        "id": "bmkpkBhsA2nN"
      },
      "source": [
        "we realized the importance of name context in the data set. if a sentence contains the name gunther, it definetly came from Friends"
      ]
    },
    {
      "cell_type": "code",
      "execution_count": 6,
      "metadata": {
        "id": "2B1ccTmvBHyv"
      },
      "outputs": [],
      "source": [
        "Friends_names = [\n",
        "    'Monica', 'Geller',\n",
        "    'Joey' ,'Tribbiani',\n",
        "    'Chandler', 'Bing',\n",
        "    'Rachel', 'Green',\n",
        "    'Phoebe' ,'Buffay',\n",
        "    'Ross' ,'Geller',\n",
        "    \"Gunther\",\n",
        "    \"Janice\",\n",
        "    'Mike' ,'Hannigan',\n",
        "    'Ursula', 'Buffay',\n",
        "    'Richard' ,'Burke',\n",
        "    'Estelle' ,'Costanza',\n",
        "    'Ben' ,'Geller',\n",
        "    'Emily' ,'Waltham',\n",
        "    'Heckles'\n",
        "]"
      ]
    },
    {
      "cell_type": "code",
      "execution_count": 7,
      "metadata": {
        "id": "qb-oyfmPBaeh"
      },
      "outputs": [],
      "source": [
        "Seinfeld_names = ['Jerry', 'Seinfeld',\n",
        "'George', 'Costanza',\n",
        "'Cosmo' ,'Kramer'\n",
        "'Elaine', 'Benes' ,\n",
        "'Newman',\n",
        "'Frank', 'Costanza',\n",
        " 'Peterman' ,\n",
        "'Estelle' ,\n",
        "'Soup Nazi',\n",
        "'Steinbrenner',\n",
        "'Kenny' ,'Bania',\n",
        "'Lloyd' ,'Braun']"
      ]
    },
    {
      "cell_type": "code",
      "execution_count": 8,
      "metadata": {
        "id": "3K5fXrzbAv1t"
      },
      "outputs": [],
      "source": [
        "all_names = Seinfeld_names+Friends_names"
      ]
    },
    {
      "cell_type": "code",
      "execution_count": 9,
      "metadata": {
        "id": "A09LGqLEDGRP"
      },
      "outputs": [],
      "source": [
        "from collections import Counter\n",
        "name_counts_Seinfeld = Counter()\n",
        "name_counts_Friends = Counter()\n",
        "\n",
        "for name in Seinfeld_names:\n",
        "  name_counts_Friends[name] = train_df[train_df['Show'] == 'Friends']['Dialogue'].str.contains(name).sum()\n",
        "  name_counts_Seinfeld[name] = train_df[train_df['Show'] == 'Seinfeld']['Dialogue'].str.contains(name).sum()\n"
      ]
    },
    {
      "cell_type": "code",
      "execution_count": 10,
      "metadata": {
        "colab": {
          "base_uri": "https://localhost:8080/",
          "height": 607
        },
        "id": "P3OldACX8N8n",
        "outputId": "48374654-4b82-4ee4-b44a-e267a45f904f"
      },
      "outputs": [
        {
          "data": {
            "image/png": "[encoded data removed]",
            "text/plain": [
              "<Figure size 1000x600 with 1 Axes>"
            ]
          },
          "metadata": {},
          "output_type": "display_data"
        }
      ],
      "source": [
        "import matplotlib.pyplot as plt\n",
        "import numpy as np\n",
        "\n",
        "# Merge the dictionaries\n",
        "merged_counts = {}\n",
        "for name in set(name_counts_Seinfeld.keys()) | set(name_counts_Friends.keys()):\n",
        "    count_Seinfeld = name_counts_Seinfeld.get(name, 0)\n",
        "    count_Friends = name_counts_Friends.get(name, 0)\n",
        "    merged_counts[name] = (count_Seinfeld, count_Friends)\n",
        "\n",
        "# Extracting names and counts\n",
        "names = list(merged_counts.keys())\n",
        "counts_Seinfeld, counts_Friends = zip(*merged_counts.values())\n",
        "\n",
        "# Plotting\n",
        "fig, ax = plt.subplots(figsize=(10, 6))\n",
        "\n",
        "bar_width = 0.35\n",
        "index = np.arange(len(names))\n",
        "\n",
        "bar1 = ax.bar(index, counts_Seinfeld, bar_width, label='Seinfeld', color='b')\n",
        "bar2 = ax.bar(index + bar_width, counts_Friends, bar_width, label='Friends', color='g')\n",
        "\n",
        "ax.set_xlabel('Names')\n",
        "ax.set_ylabel('Counts')\n",
        "ax.set_title('name counts of seinfeld character names in both shows')\n",
        "ax.set_xticks(index + bar_width / 2)\n",
        "ax.set_xticklabels(names)\n",
        "ax.legend()\n",
        "\n",
        "plt.xticks(rotation=45)  # Rotate x labels for better readability\n",
        "plt.tight_layout()\n",
        "plt.show()"
      ]
    },
    {
      "cell_type": "code",
      "execution_count": 11,
      "metadata": {
        "id": "r2gqQ0_CFZTL"
      },
      "outputs": [],
      "source": [
        "name_counts_Seinfeld = Counter()\n",
        "name_counts_Friends = Counter()\n",
        "\n",
        "for name in Friends_names:\n",
        "  name_counts_Friends[name] = train_df[train_df['Show'] == 'Friends']['Dialogue'].str.contains(name).sum()\n",
        "  name_counts_Seinfeld[name] = train_df[train_df['Show'] == 'Seinfeld']['Dialogue'].str.contains(name).sum()"
      ]
    },
    {
      "cell_type": "code",
      "execution_count": 12,
      "metadata": {
        "colab": {
          "base_uri": "https://localhost:8080/",
          "height": 607
        },
        "id": "1gPFNhQ99n_h",
        "outputId": "e8008015-5d2e-47f2-81d2-61960d57a681"
      },
      "outputs": [
        {
          "data": {
            "image/png": "[encoded data removed]",
            "text/plain": [
              "<Figure size 1000x600 with 1 Axes>"
            ]
          },
          "metadata": {},
          "output_type": "display_data"
        }
      ],
      "source": [
        "import matplotlib.pyplot as plt\n",
        "import numpy as np\n",
        "\n",
        "# Merge the dictionaries\n",
        "merged_counts = {}\n",
        "for name in set(name_counts_Seinfeld.keys()) | set(name_counts_Friends.keys()):\n",
        "    count_Seinfeld = name_counts_Seinfeld.get(name, 0)\n",
        "    count_Friends = name_counts_Friends.get(name, 0)\n",
        "    merged_counts[name] = (count_Seinfeld, count_Friends)\n",
        "\n",
        "# Extracting names and counts\n",
        "names = list(merged_counts.keys())\n",
        "counts_Seinfeld, counts_Friends = zip(*merged_counts.values())\n",
        "\n",
        "# Plotting\n",
        "fig, ax = plt.subplots(figsize=(10, 6))\n",
        "\n",
        "bar_width = 0.35\n",
        "index = np.arange(len(names))\n",
        "\n",
        "bar1 = ax.bar(index, counts_Seinfeld, bar_width, label='Seinfeld', color='b')\n",
        "bar2 = ax.bar(index + bar_width, counts_Friends, bar_width, label='Friends', color='g')\n",
        "\n",
        "ax.set_xlabel('Names')\n",
        "ax.set_ylabel('Counts')\n",
        "ax.set_title('name counts of Friends character names in both shows')\n",
        "ax.set_xticks(index + bar_width / 2)\n",
        "ax.set_xticklabels(names)\n",
        "ax.legend()\n",
        "\n",
        "plt.xticks(rotation=45)  # Rotate x labels for better readability\n",
        "plt.tight_layout()\n",
        "plt.show()"
      ]
    },
    {
      "cell_type": "markdown",
      "metadata": {
        "id": "MImX8pWRHtlf"
      },
      "source": [
        "Data preprocessing"
      ]
    },
    {
      "cell_type": "markdown",
      "metadata": {
        "id": "TS-KWNNwH15s"
      },
      "source": [
        " Cleaning the data\n",
        "Let's cleaning the text and removing HTML junk:"
      ]
    },
    {
      "cell_type": "code",
      "execution_count": 13,
      "metadata": {
        "colab": {
          "base_uri": "https://localhost:8080/"
        },
        "id": "TdVV49UNK7FH",
        "outputId": "98612b94-b49b-4858-a844-4f3a2725e71d"
      },
      "outputs": [
        {
          "name": "stdout",
          "output_type": "stream",
          "text": [
            "Angled brackets found in row 620: No, George, this is the ticket-<holders> line.\n",
            "Angled brackets found in row 47905:  Oh no no no.. I'll get her. I'm super-compentent and totally responsibile and fourth in line to raise Emma. I'll be right there Emma. Just let me get my trusty diaper bag here. <knocks over the box of china> Well.. what do you know? I guess, I'll be the one who dies first.\n",
            "Angled brackets found in row 48620: I wouldn't mind seein' <that>.\n"
          ]
        },
        {
          "data": {
            "text/plain": [
              "3"
            ]
          },
          "execution_count": 13,
          "metadata": {},
          "output_type": "execute_result"
        }
      ],
      "source": [
        "import re\n",
        "cnt =0\n",
        "html_tags = re.compile(r'<.*?>')\n",
        "for i in range(0,len(train_df),5):\n",
        "    text = train_df.loc[i]['Dialogue']\n",
        "    if html_tags.search(text):\n",
        "      cnt+=1\n",
        "      print(f\"Angled brackets found in row {i}: {text}\")\n",
        "cnt"
      ]
    },
    {
      "cell_type": "markdown",
      "metadata": {
        "id": "2uKp5ySyL8Tw"
      },
      "source": [
        "between each <>, (),[] is a director instruction or actions that the actors do, but these are not speeches that can tell which actor said it. so we will delete everything between brackets but keep the names! we think that names can help our models identify who said which sentence."
      ]
    },
    {
      "cell_type": "code",
      "execution_count": 14,
      "metadata": {
        "id": "WEr7KfCTM2mf"
      },
      "outputs": [],
      "source": [
        "import re\n",
        "\n",
        "def replace_enclosed_text_with_names(text, all_names):\n",
        "    # Define regular expression pattern to match text enclosed within parentheses, square brackets, or angle brackets\n",
        "    pattern = r'\\[([^\\[\\]]*)\\]|\\(([^()]*)\\)|<([^<>]*)>'  # Updated pattern to include parentheses, square brackets, and angle brackets\n",
        "\n",
        "    def replace_with_names(match):\n",
        "        # Extract enclosed text from groups\n",
        "        enclosed_text = match.group(1) if match.group(1) else match.group(2) if match.group(2) else match.group(3)\n",
        "        # Check if any names from all_names are present in the enclosed text\n",
        "        found_names = [name for name in all_names if name in enclosed_text] if enclosed_text else []\n",
        "        if found_names:\n",
        "            return ' '.join(found_names)  # Replace with the found names\n",
        "        else:\n",
        "            return ''  # If no matching name found, replace with an empty string\n",
        "\n",
        "    # Use re.sub() with a custom function to replace matched patterns with names from all_names\n",
        "    cleaned_text = text\n",
        "    while re.search(pattern, cleaned_text):\n",
        "        cleaned_text = re.sub(pattern, replace_with_names, cleaned_text)\n",
        "\n",
        "    return cleaned_text\n",
        "\n",
        "def clean_dialogue(dialogue):\n",
        "    cleaned_dialogue = replace_enclosed_text_with_names(dialogue, all_names)\n",
        "    return cleaned_dialogue"
      ]
    },
    {
      "cell_type": "code",
      "execution_count": 15,
      "metadata": {
        "id": "1OjS4-8NWNeP"
      },
      "outputs": [],
      "source": [
        "# pipeline\n",
        "# Apply the cleaning function to the 'Dialogue' column\n",
        "train_df['Dialogue'] = train_df['Dialogue'].apply(clean_dialogue)\n"
      ]
    },
    {
      "cell_type": "code",
      "execution_count": 16,
      "metadata": {
        "colab": {
          "base_uri": "https://localhost:8080/"
        },
        "id": "NVvM1wwNfdMh",
        "outputId": "f2166207-b24c-49d3-92e5-f00ab1a3df72"
      },
      "outputs": [
        {
          "name": "stdout",
          "output_type": "stream",
          "text": [
            " Alright you guys are off to party number one Monica and you, you are off to party number two Monica Chandler Alright fellas, let's keep it movin', let' keep it movin.\n",
            " Alright you guys are off to party number one [ushers 3 guys into Monica's apartment] and you, you are off to party number two [ushers four women into his apartment. Two guys try to follow and Chandler blocks them and shoos them off to Monica's apartment] Alright fellas, let's keep it movin', let' keep it movin.\n"
          ]
        }
      ],
      "source": [
        "print(train_df.iloc[3,0])\n",
        "print(base_train_df.iloc[3,0])"
      ]
    },
    {
      "cell_type": "code",
      "execution_count": 17,
      "metadata": {
        "id": "3VLbh1_EIp72"
      },
      "outputs": [],
      "source": [
        "# pipeline\n",
        "# Convert the 'dialogue' column to lowercase\n",
        "train_df['Dialogue'] = train_df['Dialogue'].str.lower()"
      ]
    },
    {
      "cell_type": "code",
      "execution_count": 18,
      "metadata": {
        "id": "3iF7NF_--fkQ"
      },
      "outputs": [],
      "source": [
        "# pipeline\n",
        "# convert the names list to lower\n",
        "all_names = [string.lower() for string in all_names]\n"
      ]
    },
    {
      "cell_type": "code",
      "execution_count": 19,
      "metadata": {
        "id": "ASI1AhrYVjqO"
      },
      "outputs": [],
      "source": [
        "import spacy\n",
        "# Load the spaCy English model\n",
        "nlp = spacy.load('en_core_web_sm')"
      ]
    },
    {
      "cell_type": "code",
      "execution_count": 20,
      "metadata": {
        "colab": {
          "base_uri": "https://localhost:8080/"
        },
        "id": "JfLhJY7zaCLp",
        "outputId": "d8bb6985-589a-4261-ef3e-be039a9d788b"
      },
      "outputs": [
        {
          "name": "stderr",
          "output_type": "stream",
          "text": [
            "/usr/local/lib/python3.10/dist-packages/spacy/util.py:1740: UserWarning: [W111] Jupyter notebook detected: if using `prefer_gpu()` or `require_gpu()`, include it in the same cell right before `spacy.load()` to ensure that the model is loaded on the correct device. More information: http://spacy.io/usage/v3#jupyter-notebook-gpu\n",
            "  warnings.warn(Warnings.W111)\n"
          ]
        }
      ],
      "source": [
        "import spacy\n",
        "from concurrent.futures import ProcessPoolExecutor\n",
        "from tqdm.notebook import tqdm  # For progress tracking\n",
        "\n",
        "# Load spaCy model\n",
        "nlp = spacy.load(\"en_core_web_sm\")\n",
        "\n",
        "# Function to lemmatize a batch of texts\n",
        "def lemmatize_batch(texts):\n",
        "    docs = list(nlp.pipe(texts))\n",
        "    lemmatized_texts = [' '.join([token.lemma_ for token in doc]) for doc in docs]\n",
        "    return lemmatized_texts\n",
        "\n",
        "# Function to lemmatize texts using multiprocessing\n",
        "def lemmatize_texts_multiprocessing(texts, batch_size=1000, num_processes=None):\n",
        "    with ProcessPoolExecutor(max_workers=num_processes) as executor:\n",
        "        batches = [texts[i:i+batch_size] for i in range(0, len(texts), batch_size)]\n",
        "        results = list(tqdm(executor.map(lemmatize_batch, batches), total=len(batches), desc=\"Lemmatizing\"))\n",
        "        lemmatized_texts = [text for result in results for text in result]\n",
        "    return lemmatized_texts\n",
        "\n",
        "# Modify your DataFrame processing\n",
        "def process_dataframe(df):\n",
        "    # Assuming train_df is your DataFrame\n",
        "    dialogue_texts = df[\"Dialogue\"].tolist()\n",
        "    lemmatized_texts = lemmatize_texts_multiprocessing(dialogue_texts)\n",
        "    df[\"Dialogue\"] = lemmatized_texts\n",
        "    return df"
      ]
    },
    {
      "cell_type": "code",
      "execution_count": 21,
      "metadata": {
        "colab": {
          "base_uri": "https://localhost:8080/",
          "height": 49,
          "referenced_widgets": [
            "ac31e90b29594807b8ce64f5169fa929",
            "e7ce0575ab314e549e94ec393bf503f0",
            "b0324bc5c9814ff3801dc5d5c8914503",
            "6415fa61af3345ba969d5e7c126f51cf",
            "c1d0036ddb13444e895352dd7a6785ca",
            "1f9aa84b1ac240799db44b6694468c0f",
            "10820f5ca8cc4a30a6fd2740307b8124",
            "50beba2f26d449d1ac2465c374e12a0b",
            "830665c5d7804b279d6dad1937911632",
            "e98e784106a9425987a49521dbf85e73",
            "48e535f9978c4cd08e216e539a741f72"
          ]
        },
        "id": "9aBg3nkpbZ3J",
        "outputId": "bbaf5626-6a12-489d-b398-80bb1e7e158a"
      },
      "outputs": [
        {
          "data": {
            "application/vnd.jupyter.widget-view+json": {
              "model_id": "ac31e90b29594807b8ce64f5169fa929",
              "version_major": 2,
              "version_minor": 0
            },
            "text/plain": [
              "Lemmatizing:   0%|          | 0/71 [00:00<?, ?it/s]"
            ]
          },
          "metadata": {},
          "output_type": "display_data"
        }
      ],
      "source": [
        "# pipeline\n",
        "# lemmatize the entire dataset with multiprocessibng for faster comput time\n",
        "train_df = process_dataframe(train_df)"
      ]
    },
    {
      "cell_type": "code",
      "execution_count": 22,
      "metadata": {
        "colab": {
          "base_uri": "https://localhost:8080/"
        },
        "id": "OiFt4KLpbiCa",
        "outputId": "797057f0-f6d0-4d6d-b6e9-865e9221a550"
      },
      "outputs": [
        {
          "name": "stdout",
          "output_type": "stream",
          "text": [
            "he choose the cat ?\n",
            "He chose the cats?\n",
            "\n",
            "chose -> choose, cats -> cat\n"
          ]
        }
      ],
      "source": [
        "print(train_df.iloc[3397,0])\n",
        "print(base_train_df.iloc[3397,0])\n",
        "print('\\nchose -> choose, cats -> cat')"
      ]
    },
    {
      "cell_type": "markdown",
      "metadata": {
        "id": "eEkHpwRVPLPs"
      },
      "source": [
        "Remove stop words: these are words that don't help us determine who said which sentence and just make the dimension of our data larger"
      ]
    },
    {
      "cell_type": "code",
      "execution_count": 23,
      "metadata": {
        "colab": {
          "base_uri": "https://localhost:8080/"
        },
        "id": "Kr1fXHy5PFl2",
        "outputId": "8d93e7bb-a97a-42f0-dfe3-7f0ed5185a32"
      },
      "outputs": [
        {
          "name": "stdout",
          "output_type": "stream",
          "text": [
            "Number of English stop words: 179\n",
            "['i', 'me', 'my', 'myself', 'we', 'our', 'ours', 'ourselves', 'you', \"you're\", \"you've\", \"you'll\", \"you'd\", 'your', 'yours', 'yourself', 'yourselves', 'he', 'him', 'his', 'himself', 'she', \"she's\", 'her', 'hers', 'herself', 'it', \"it's\", 'its', 'itself', 'they', 'them', 'their', 'theirs', 'themselves', 'what', 'which', 'who', 'whom', 'this', 'that', \"that'll\", 'these', 'those', 'am', 'is', 'are', 'was', 'were', 'be', 'been', 'being', 'have', 'has', 'had', 'having', 'do', 'does', 'did', 'doing', 'a', 'an', 'the', 'and', 'but', 'if', 'or', 'because', 'as', 'until', 'while', 'of', 'at', 'by', 'for', 'with', 'about', 'against', 'between', 'into', 'through', 'during', 'before', 'after', 'above', 'below', 'to', 'from', 'up', 'down', 'in', 'out', 'on', 'off', 'over', 'under', 'again', 'further', 'then', 'once', 'here', 'there', 'when', 'where', 'why', 'how', 'all', 'any', 'both', 'each', 'few', 'more', 'most', 'other', 'some', 'such', 'no', 'nor', 'not', 'only', 'own', 'same', 'so', 'than', 'too', 'very', 's', 't', 'can', 'will', 'just', 'don', \"don't\", 'should', \"should've\", 'now', 'd', 'll', 'm', 'o', 're', 've', 'y', 'ain', 'aren', \"aren't\", 'couldn', \"couldn't\", 'didn', \"didn't\", 'doesn', \"doesn't\", 'hadn', \"hadn't\", 'hasn', \"hasn't\", 'haven', \"haven't\", 'isn', \"isn't\", 'ma', 'mightn', \"mightn't\", 'mustn', \"mustn't\", 'needn', \"needn't\", 'shan', \"shan't\", 'shouldn', \"shouldn't\", 'wasn', \"wasn't\", 'weren', \"weren't\", 'won', \"won't\", 'wouldn', \"wouldn't\"]\n"
          ]
        },
        {
          "name": "stderr",
          "output_type": "stream",
          "text": [
            "[nltk_data] Downloading package stopwords to /root/nltk_data...\n",
            "[nltk_data]   Unzipping corpora/stopwords.zip.\n"
          ]
        }
      ],
      "source": [
        "import nltk\n",
        "\n",
        "_=nltk.download('stopwords')\n",
        "stopword_list = nltk.corpus.stopwords.words('english')\n",
        "\n",
        "print('Number of English stop words:', len(stopword_list))\n",
        "print(stopword_list)\n",
        "\n",
        "\n",
        "\n"
      ]
    },
    {
      "cell_type": "code",
      "execution_count": 24,
      "metadata": {
        "id": "yATQSm2sRaQS"
      },
      "outputs": [],
      "source": [
        "from nltk.tokenize.toktok import ToktokTokenizer\n",
        "tokenizer = ToktokTokenizer()"
      ]
    },
    {
      "cell_type": "code",
      "execution_count": 25,
      "metadata": {
        "colab": {
          "base_uri": "https://localhost:8080/"
        },
        "id": "vH79wHdARdkB",
        "outputId": "bffee237-cb3f-4bd9-c0d0-3a202d939de9"
      },
      "outputs": [
        {
          "data": {
            "text/plain": [
              "['he', 'choose', 'the', 'cat', '?']"
            ]
          },
          "execution_count": 25,
          "metadata": {},
          "output_type": "execute_result"
        }
      ],
      "source": [
        "tokenizer.tokenize(train_df.iloc[3397, 0])"
      ]
    },
    {
      "cell_type": "code",
      "execution_count": 26,
      "metadata": {
        "id": "JyP8ai4MSEwx"
      },
      "outputs": [],
      "source": [
        "# Removing the stopwords\n",
        "from tqdm.notebook import tqdm\n",
        "tqdm.pandas()\n",
        "\n",
        "def remove_stopwords(text):\n",
        "    tokens = tokenizer.tokenize(text)\n",
        "    tokens = [token.strip() for token in tokens]\n",
        "    filtered_tokens = [token for token in tokens if token.lower() not in stopword_list]\n",
        "    filtered_text = ' '.join(filtered_tokens)\n",
        "    return filtered_text\n",
        "\n"
      ]
    },
    {
      "cell_type": "code",
      "execution_count": 27,
      "metadata": {
        "colab": {
          "base_uri": "https://localhost:8080/",
          "height": 49,
          "referenced_widgets": [
            "1b513f9b96b3476e8031702cfb4ea330",
            "a1f0f3a6b8434bbc9cb3e4d143861b23",
            "06180251f6d042baae7c392d7835a178",
            "5f02b84cfe9d4361ad23bf9a3e44a86f",
            "9b4434f1503743f1b8e07668a47e07ac",
            "469989f6ef43417489770f780524d562",
            "919f2f9d7c274ef590b596b08d47212d",
            "14e7dc9d9ae34eabb4810fe6d7552251",
            "7431c88dd48b45b9bb07e7e0af05ea8d",
            "69cafee4d8034c95b18dc471230f59ea",
            "9b40ecdc6e4f42279a8794fcbb66407f"
          ]
        },
        "id": "zeodxY2sSIVG",
        "outputId": "83d2b238-fac2-4627-c957-8124e21a1733"
      },
      "outputs": [
        {
          "data": {
            "application/vnd.jupyter.widget-view+json": {
              "model_id": "1b513f9b96b3476e8031702cfb4ea330",
              "version_major": 2,
              "version_minor": 0
            },
            "text/plain": [
              "  0%|          | 0/70405 [00:00<?, ?it/s]"
            ]
          },
          "metadata": {},
          "output_type": "display_data"
        }
      ],
      "source": [
        "# pipeline\n",
        "# Apply function on review column\n",
        "train_df['Dialogue'] = train_df['Dialogue'].progress_apply(remove_stopwords)"
      ]
    },
    {
      "cell_type": "markdown",
      "metadata": {
        "id": "C_JtdS47S3wP"
      },
      "source": [
        "the generic stop words were removed: are, you, be... for example removed he , the"
      ]
    },
    {
      "cell_type": "code",
      "execution_count": 28,
      "metadata": {
        "colab": {
          "base_uri": "https://localhost:8080/"
        },
        "id": "t8N0w6fASgh7",
        "outputId": "ee5299c4-31c9-4ab6-ee0f-231ef5d556a9"
      },
      "outputs": [
        {
          "name": "stdout",
          "output_type": "stream",
          "text": [
            "choose cat ?\n",
            "He chose the cats?\n"
          ]
        }
      ],
      "source": [
        "print(train_df.iloc[3397,0])\n",
        "print(base_train_df.iloc[3397,0])"
      ]
    },
    {
      "cell_type": "markdown",
      "metadata": {
        "id": "7MKHG736Rkvt"
      },
      "source": [
        "Let's also remove special characters:"
      ]
    },
    {
      "cell_type": "code",
      "execution_count": 29,
      "metadata": {
        "id": "9MLKiYQHM5U4"
      },
      "outputs": [],
      "source": [
        "# Define function for removing special characters\n",
        "def remove_special_characters(text):\n",
        "    pattern = r'[^a-z\\s]'\n",
        "    text = re.sub(pattern,'',text)\n",
        "    return text"
      ]
    },
    {
      "cell_type": "code",
      "execution_count": 30,
      "metadata": {
        "id": "PAZPYnUuTIl4"
      },
      "outputs": [],
      "source": [
        "# pipeline\n",
        "# Apply function on review column\n",
        "train_df['Dialogue'] = train_df['Dialogue'].apply(remove_special_characters)"
      ]
    },
    {
      "cell_type": "code",
      "execution_count": 31,
      "metadata": {
        "colab": {
          "base_uri": "https://localhost:8080/"
        },
        "id": "0D0_Xl9yWat4",
        "outputId": "ff7adde0-3066-4428-fe2f-74cf1f11dfa4"
      },
      "outputs": [
        {
          "name": "stdout",
          "output_type": "stream",
          "text": [
            "choose cat \n",
            "He chose the cats?\n"
          ]
        }
      ],
      "source": [
        "print(train_df.iloc[3397,0])\n",
        "print(base_train_df.iloc[3397,0])\n"
      ]
    },
    {
      "cell_type": "code",
      "execution_count": 32,
      "metadata": {
        "colab": {
          "base_uri": "https://localhost:8080/"
        },
        "id": "T1xSXB8MU9eA",
        "outputId": "fbf43001-f594-4af4-90c1-617c4f3496b4"
      },
      "outputs": [
        {
          "name": "stdout",
          "output_type": "stream",
          "text": [
            "come  like want tell  run place try make sure happen \n",
            " Come on! Like I wanted him to tell you, I ran all over the place trying to make sure that didn’t happen!\n"
          ]
        }
      ],
      "source": [
        "print(train_df.iloc[4975, 0])\n",
        "print(base_train_df.iloc[4975, 0])\n",
        "\n"
      ]
    },
    {
      "cell_type": "markdown",
      "metadata": {
        "id": "w--pf-GsfpHJ"
      },
      "source": [
        "convert multiple spaces to 1"
      ]
    },
    {
      "cell_type": "code",
      "execution_count": 33,
      "metadata": {
        "id": "YXy_J66Dfagf"
      },
      "outputs": [],
      "source": [
        "# pipeline\n",
        "train_df[\"Dialogue\"] = train_df[\"Dialogue\"].apply(lambda x: re.sub(r'\\s+', ' ', x))"
      ]
    },
    {
      "cell_type": "code",
      "execution_count": 34,
      "metadata": {
        "id": "yCAY7SyDib-L"
      },
      "outputs": [],
      "source": [
        "# pipeline\n",
        "train_df[\"Dialogue\"] = train_df[\"Dialogue\"].apply(lambda x: re.sub(r'\\s+', ' ', x.strip()))"
      ]
    },
    {
      "cell_type": "code",
      "execution_count": 35,
      "metadata": {
        "colab": {
          "base_uri": "https://localhost:8080/"
        },
        "id": "RZukHRScfs1_",
        "outputId": "c3b5b1e4-34f4-4405-da5f-ef2edaec0653"
      },
      "outputs": [
        {
          "name": "stdout",
          "output_type": "stream",
          "text": [
            "nothing except bird run giant freak head\n",
            "Nothing.. Except that a bird ran into my giant freak-head. (Sits down)\n"
          ]
        }
      ],
      "source": [
        "print(train_df.iloc[5246, 0])\n",
        "print(base_train_df.iloc[5246, 0])"
      ]
    },
    {
      "cell_type": "code",
      "execution_count": 35,
      "metadata": {
        "id": "wfoK4h2yj_eJ"
      },
      "outputs": [],
      "source": []
    },
    {
      "cell_type": "markdown",
      "metadata": {
        "id": "8w6G4Nt9iqkK"
      },
      "source": [
        "validating that we handled the data correctly\n",
        "\n",
        "\n"
      ]
    },
    {
      "cell_type": "code",
      "execution_count": 36,
      "metadata": {
        "colab": {
          "base_uri": "https://localhost:8080/",
          "height": 363
        },
        "id": "Uggis6YokAu5",
        "outputId": "d3eaf9b1-9356-41be-a5fa-0caa3a465606"
      },
      "outputs": [
        {
          "data": {
            "application/vnd.google.colaboratory.intrinsic+json": {
              "summary": "{\n  \"name\": \"train_df\",\n  \"rows\": 70405,\n  \"fields\": [\n    {\n      \"column\": \"Dialogue\",\n      \"properties\": {\n        \"dtype\": \"string\",\n        \"num_unique_values\": 52148,\n        \"samples\": [\n          \"idiot joke funny offensive woman doctor monkey argue get credit argue get blame inflict horrible joke upon world let go joke suck\",\n          \"balance checkbook\",\n          \"oh frankie\"\n        ],\n        \"semantic_type\": \"\",\n        \"description\": \"\"\n      }\n    },\n    {\n      \"column\": \"Character\",\n      \"properties\": {\n        \"dtype\": \"category\",\n        \"num_unique_values\": 10,\n        \"samples\": [\n          \"rachel\",\n          \"phoebe\",\n          \"monica\"\n        ],\n        \"semantic_type\": \"\",\n        \"description\": \"\"\n      }\n    },\n    {\n      \"column\": \"Episode\",\n      \"properties\": {\n        \"dtype\": \"category\",\n        \"num_unique_values\": 398,\n        \"samples\": [\n          \"Season-09 Episode-18-The One With The Lottery\",\n          \"Season-02 Episode-02-The One With the Breast Milk\",\n          \"Season-01 Episode-01-The One Where Monica Gets a New Roommate (The Pilot)\"\n        ],\n        \"semantic_type\": \"\",\n        \"description\": \"\"\n      }\n    },\n    {\n      \"column\": \"Show\",\n      \"properties\": {\n        \"dtype\": \"category\",\n        \"num_unique_values\": 2,\n        \"samples\": [\n          \"Seinfeld\",\n          \"Friends\"\n        ],\n        \"semantic_type\": \"\",\n        \"description\": \"\"\n      }\n    },\n    {\n      \"column\": \"Dialogue_length\",\n      \"properties\": {\n        \"dtype\": \"number\",\n        \"std\": 12,\n        \"min\": 1,\n        \"max\": 363,\n        \"num_unique_values\": 163,\n        \"samples\": [\n          182,\n          154\n        ],\n        \"semantic_type\": \"\",\n        \"description\": \"\"\n      }\n    }\n  ]\n}",
              "type": "dataframe",
              "variable_name": "train_df"
            },
            "text/html": [
              "\n",
              "  <div id=\"df-b7d3232a-a725-4991-a68a-cd73222d0f43\" class=\"colab-df-container\">\n",
              "    <div>\n",
              "<style scoped>\n",
              "    .dataframe tbody tr th:only-of-type {\n",
              "        vertical-align: middle;\n",
              "    }\n",
              "\n",
              "    .dataframe tbody tr th {\n",
              "        vertical-align: top;\n",
              "    }\n",
              "\n",
              "    .dataframe thead th {\n",
              "        text-align: right;\n",
              "    }\n",
              "</style>\n",
              "<table border=\"1\" class=\"dataframe\">\n",
              "  <thead>\n",
              "    <tr style=\"text-align: right;\">\n",
              "      <th></th>\n",
              "      <th>Dialogue</th>\n",
              "      <th>Character</th>\n",
              "      <th>Episode</th>\n",
              "      <th>Show</th>\n",
              "      <th>Dialogue_length</th>\n",
              "    </tr>\n",
              "  </thead>\n",
              "  <tbody>\n",
              "    <tr>\n",
              "      <th>0</th>\n",
              "      <td>hey</td>\n",
              "      <td>joey</td>\n",
              "      <td>Season-07 Episode-13-The One Where Rosita Dies</td>\n",
              "      <td>Friends</td>\n",
              "      <td>1</td>\n",
              "    </tr>\n",
              "    <tr>\n",
              "      <th>1</th>\n",
              "      <td>joey go embarrassed go nothing prepare</td>\n",
              "      <td>phoebe</td>\n",
              "      <td>Season-10 Episode-04-The One With The Cake</td>\n",
              "      <td>Friends</td>\n",
              "      <td>13</td>\n",
              "    </tr>\n",
              "    <tr>\n",
              "      <th>2</th>\n",
              "      <td>go tell go tell noo</td>\n",
              "      <td>elaine</td>\n",
              "      <td>S03E22</td>\n",
              "      <td>Seinfeld</td>\n",
              "      <td>14</td>\n",
              "    </tr>\n",
              "    <tr>\n",
              "      <th>3</th>\n",
              "      <td>alright guy party number one monica party numb...</td>\n",
              "      <td>chandler</td>\n",
              "      <td>Season-02 Episode-22-The One With the Two Parties</td>\n",
              "      <td>Friends</td>\n",
              "      <td>56</td>\n",
              "    </tr>\n",
              "    <tr>\n",
              "      <th>4</th>\n",
              "      <td>sane blow mind</td>\n",
              "      <td>kramer</td>\n",
              "      <td>S05E12</td>\n",
              "      <td>Seinfeld</td>\n",
              "      <td>13</td>\n",
              "    </tr>\n",
              "    <tr>\n",
              "      <th>5</th>\n",
              "      <td>parent got divorce able answer question like n...</td>\n",
              "      <td>monica</td>\n",
              "      <td>Season-03 Episode-17-The One Without The Ski Trip</td>\n",
              "      <td>Friends</td>\n",
              "      <td>18</td>\n",
              "    </tr>\n",
              "    <tr>\n",
              "      <th>6</th>\n",
              "      <td></td>\n",
              "      <td>ross</td>\n",
              "      <td>Season-05 Episode-18-The One Where Rachel Smokes</td>\n",
              "      <td>Friends</td>\n",
              "      <td>2</td>\n",
              "    </tr>\n",
              "    <tr>\n",
              "      <th>7</th>\n",
              "      <td>know know try get young mindset know start flow</td>\n",
              "      <td>chandler</td>\n",
              "      <td>Season-09 Episode-15-The One With The Mugging</td>\n",
              "      <td>Friends</td>\n",
              "      <td>27</td>\n",
              "    </tr>\n",
              "    <tr>\n",
              "      <th>8</th>\n",
              "      <td>know always want first black man cross atlantic</td>\n",
              "      <td>chandler</td>\n",
              "      <td>Season-10 Episode-15-The One Where Estelle Dies</td>\n",
              "      <td>Friends</td>\n",
              "      <td>15</td>\n",
              "    </tr>\n",
              "    <tr>\n",
              "      <th>9</th>\n",
              "      <td>uniform make</td>\n",
              "      <td>george</td>\n",
              "      <td>S06E01</td>\n",
              "      <td>Seinfeld</td>\n",
              "      <td>6</td>\n",
              "    </tr>\n",
              "  </tbody>\n",
              "</table>\n",
              "</div>\n",
              "    <div class=\"colab-df-buttons\">\n",
              "\n",
              "  <div class=\"colab-df-container\">\n",
              "    <button class=\"colab-df-convert\" onclick=\"convertToInteractive('df-b7d3232a-a725-4991-a68a-cd73222d0f43')\"\n",
              "            title=\"Convert this dataframe to an interactive table.\"\n",
              "            style=\"display:none;\">\n",
              "\n",
              "  <svg xmlns=\"http://www.w3.org/2000/svg\" height=\"24px\" viewBox=\"0 -960 960 960\">\n",
              "    <path d=\"M120-120v-720h720v720H120Zm60-500h600v-160H180v160Zm220 220h160v-160H400v160Zm0 220h160v-160H400v160ZM180-400h160v-160H180v160Zm440 0h160v-160H620v160ZM180-180h160v-160H180v160Zm440 0h160v-160H620v160Z\"/>\n",
              "  </svg>\n",
              "    </button>\n",
              "\n",
              "  <style>\n",
              "    .colab-df-container {\n",
              "      display:flex;\n",
              "      gap: 12px;\n",
              "    }\n",
              "\n",
              "    .colab-df-convert {\n",
              "      background-color: #E8F0FE;\n",
              "      border: none;\n",
              "      border-radius: 50%;\n",
              "      cursor: pointer;\n",
              "      display: none;\n",
              "      fill: #1967D2;\n",
              "      height: 32px;\n",
              "      padding: 0 0 0 0;\n",
              "      width: 32px;\n",
              "    }\n",
              "\n",
              "    .colab-df-convert:hover {\n",
              "      background-color: #E2EBFA;\n",
              "      box-shadow: 0px 1px 2px rgba(60, 64, 67, 0.3), 0px 1px 3px 1px rgba(60, 64, 67, 0.15);\n",
              "      fill: #174EA6;\n",
              "    }\n",
              "\n",
              "    .colab-df-buttons div {\n",
              "      margin-bottom: 4px;\n",
              "    }\n",
              "\n",
              "    [theme=dark] .colab-df-convert {\n",
              "      background-color: #3B4455;\n",
              "      fill: #D2E3FC;\n",
              "    }\n",
              "\n",
              "    [theme=dark] .colab-df-convert:hover {\n",
              "      background-color: #434B5C;\n",
              "      box-shadow: 0px 1px 3px 1px rgba(0, 0, 0, 0.15);\n",
              "      filter: drop-shadow(0px 1px 2px rgba(0, 0, 0, 0.3));\n",
              "      fill: #FFFFFF;\n",
              "    }\n",
              "  </style>\n",
              "\n",
              "    <script>\n",
              "      const buttonEl =\n",
              "        document.querySelector('#df-b7d3232a-a725-4991-a68a-cd73222d0f43 button.colab-df-convert');\n",
              "      buttonEl.style.display =\n",
              "        google.colab.kernel.accessAllowed ? 'block' : 'none';\n",
              "\n",
              "      async function convertToInteractive(key) {\n",
              "        const element = document.querySelector('#df-b7d3232a-a725-4991-a68a-cd73222d0f43');\n",
              "        const dataTable =\n",
              "          await google.colab.kernel.invokeFunction('convertToInteractive',\n",
              "                                                    [key], {});\n",
              "        if (!dataTable) return;\n",
              "\n",
              "        const docLinkHtml = 'Like what you see? Visit the ' +\n",
              "          '<a target=\"_blank\" href=https://colab.research.google.com/notebooks/data_table.ipynb>data table notebook</a>'\n",
              "          + ' to learn more about interactive tables.';\n",
              "        element.innerHTML = '';\n",
              "        dataTable['output_type'] = 'display_data';\n",
              "        await google.colab.output.renderOutput(dataTable, element);\n",
              "        const docLink = document.createElement('div');\n",
              "        docLink.innerHTML = docLinkHtml;\n",
              "        element.appendChild(docLink);\n",
              "      }\n",
              "    </script>\n",
              "  </div>\n",
              "\n",
              "\n",
              "<div id=\"df-dc6c0616-65a3-4187-ad82-e99cd5a34f90\">\n",
              "  <button class=\"colab-df-quickchart\" onclick=\"quickchart('df-dc6c0616-65a3-4187-ad82-e99cd5a34f90')\"\n",
              "            title=\"Suggest charts\"\n",
              "            style=\"display:none;\">\n",
              "\n",
              "<svg xmlns=\"http://www.w3.org/2000/svg\" height=\"24px\"viewBox=\"0 0 24 24\"\n",
              "     width=\"24px\">\n",
              "    <g>\n",
              "        <path d=\"M19 3H5c-1.1 0-2 .9-2 2v14c0 1.1.9 2 2 2h14c1.1 0 2-.9 2-2V5c0-1.1-.9-2-2-2zM9 17H7v-7h2v7zm4 0h-2V7h2v10zm4 0h-2v-4h2v4z\"/>\n",
              "    </g>\n",
              "</svg>\n",
              "  </button>\n",
              "\n",
              "<style>\n",
              "  .colab-df-quickchart {\n",
              "      --bg-color: #E8F0FE;\n",
              "      --fill-color: #1967D2;\n",
              "      --hover-bg-color: #E2EBFA;\n",
              "      --hover-fill-color: #174EA6;\n",
              "      --disabled-fill-color: #AAA;\n",
              "      --disabled-bg-color: #DDD;\n",
              "  }\n",
              "\n",
              "  [theme=dark] .colab-df-quickchart {\n",
              "      --bg-color: #3B4455;\n",
              "      --fill-color: #D2E3FC;\n",
              "      --hover-bg-color: #434B5C;\n",
              "      --hover-fill-color: #FFFFFF;\n",
              "      --disabled-bg-color: #3B4455;\n",
              "      --disabled-fill-color: #666;\n",
              "  }\n",
              "\n",
              "  .colab-df-quickchart {\n",
              "    background-color: var(--bg-color);\n",
              "    border: none;\n",
              "    border-radius: 50%;\n",
              "    cursor: pointer;\n",
              "    display: none;\n",
              "    fill: var(--fill-color);\n",
              "    height: 32px;\n",
              "    padding: 0;\n",
              "    width: 32px;\n",
              "  }\n",
              "\n",
              "  .colab-df-quickchart:hover {\n",
              "    background-color: var(--hover-bg-color);\n",
              "    box-shadow: 0 1px 2px rgba(60, 64, 67, 0.3), 0 1px 3px 1px rgba(60, 64, 67, 0.15);\n",
              "    fill: var(--button-hover-fill-color);\n",
              "  }\n",
              "\n",
              "  .colab-df-quickchart-complete:disabled,\n",
              "  .colab-df-quickchart-complete:disabled:hover {\n",
              "    background-color: var(--disabled-bg-color);\n",
              "    fill: var(--disabled-fill-color);\n",
              "    box-shadow: none;\n",
              "  }\n",
              "\n",
              "  .colab-df-spinner {\n",
              "    border: 2px solid var(--fill-color);\n",
              "    border-color: transparent;\n",
              "    border-bottom-color: var(--fill-color);\n",
              "    animation:\n",
              "      spin 1s steps(1) infinite;\n",
              "  }\n",
              "\n",
              "  @keyframes spin {\n",
              "    0% {\n",
              "      border-color: transparent;\n",
              "      border-bottom-color: var(--fill-color);\n",
              "      border-left-color: var(--fill-color);\n",
              "    }\n",
              "    20% {\n",
              "      border-color: transparent;\n",
              "      border-left-color: var(--fill-color);\n",
              "      border-top-color: var(--fill-color);\n",
              "    }\n",
              "    30% {\n",
              "      border-color: transparent;\n",
              "      border-left-color: var(--fill-color);\n",
              "      border-top-color: var(--fill-color);\n",
              "      border-right-color: var(--fill-color);\n",
              "    }\n",
              "    40% {\n",
              "      border-color: transparent;\n",
              "      border-right-color: var(--fill-color);\n",
              "      border-top-color: var(--fill-color);\n",
              "    }\n",
              "    60% {\n",
              "      border-color: transparent;\n",
              "      border-right-color: var(--fill-color);\n",
              "    }\n",
              "    80% {\n",
              "      border-color: transparent;\n",
              "      border-right-color: var(--fill-color);\n",
              "      border-bottom-color: var(--fill-color);\n",
              "    }\n",
              "    90% {\n",
              "      border-color: transparent;\n",
              "      border-bottom-color: var(--fill-color);\n",
              "    }\n",
              "  }\n",
              "</style>\n",
              "\n",
              "  <script>\n",
              "    async function quickchart(key) {\n",
              "      const quickchartButtonEl =\n",
              "        document.querySelector('#' + key + ' button');\n",
              "      quickchartButtonEl.disabled = true;  // To prevent multiple clicks.\n",
              "      quickchartButtonEl.classList.add('colab-df-spinner');\n",
              "      try {\n",
              "        const charts = await google.colab.kernel.invokeFunction(\n",
              "            'suggestCharts', [key], {});\n",
              "      } catch (error) {\n",
              "        console.error('Error during call to suggestCharts:', error);\n",
              "      }\n",
              "      quickchartButtonEl.classList.remove('colab-df-spinner');\n",
              "      quickchartButtonEl.classList.add('colab-df-quickchart-complete');\n",
              "    }\n",
              "    (() => {\n",
              "      let quickchartButtonEl =\n",
              "        document.querySelector('#df-dc6c0616-65a3-4187-ad82-e99cd5a34f90 button');\n",
              "      quickchartButtonEl.style.display =\n",
              "        google.colab.kernel.accessAllowed ? 'block' : 'none';\n",
              "    })();\n",
              "  </script>\n",
              "</div>\n",
              "\n",
              "    </div>\n",
              "  </div>\n"
            ],
            "text/plain": [
              "                                            Dialogue Character  \\\n",
              "0                                                hey      joey   \n",
              "1             joey go embarrassed go nothing prepare    phoebe   \n",
              "2                                go tell go tell noo    elaine   \n",
              "3  alright guy party number one monica party numb...  chandler   \n",
              "4                                     sane blow mind    kramer   \n",
              "5  parent got divorce able answer question like n...    monica   \n",
              "6                                                         ross   \n",
              "7    know know try get young mindset know start flow  chandler   \n",
              "8    know always want first black man cross atlantic  chandler   \n",
              "9                                       uniform make    george   \n",
              "\n",
              "                                             Episode      Show  \\\n",
              "0     Season-07 Episode-13-The One Where Rosita Dies   Friends   \n",
              "1         Season-10 Episode-04-The One With The Cake   Friends   \n",
              "2                                             S03E22  Seinfeld   \n",
              "3  Season-02 Episode-22-The One With the Two Parties   Friends   \n",
              "4                                             S05E12  Seinfeld   \n",
              "5  Season-03 Episode-17-The One Without The Ski Trip   Friends   \n",
              "6   Season-05 Episode-18-The One Where Rachel Smokes   Friends   \n",
              "7      Season-09 Episode-15-The One With The Mugging   Friends   \n",
              "8    Season-10 Episode-15-The One Where Estelle Dies   Friends   \n",
              "9                                             S06E01  Seinfeld   \n",
              "\n",
              "   Dialogue_length  \n",
              "0                1  \n",
              "1               13  \n",
              "2               14  \n",
              "3               56  \n",
              "4               13  \n",
              "5               18  \n",
              "6                2  \n",
              "7               27  \n",
              "8               15  \n",
              "9                6  "
            ]
          },
          "execution_count": 36,
          "metadata": {},
          "output_type": "execute_result"
        }
      ],
      "source": [
        "train_df.head(10)"
      ]
    },
    {
      "cell_type": "markdown",
      "metadata": {
        "id": "X8bOWt9YjG3V"
      },
      "source": [
        "rows that only contained data that needed to be removed are nop null (only stop words, special chars...)"
      ]
    },
    {
      "cell_type": "code",
      "execution_count": 37,
      "metadata": {
        "colab": {
          "base_uri": "https://localhost:8080/",
          "height": 35
        },
        "id": "rmGjzdzyixLj",
        "outputId": "a4d43bf2-8049-453e-f1aa-39ba5d5c4a68"
      },
      "outputs": [
        {
          "data": {
            "application/vnd.google.colaboratory.intrinsic+json": {
              "type": "string"
            },
            "text/plain": [
              "''"
            ]
          },
          "execution_count": 37,
          "metadata": {},
          "output_type": "execute_result"
        }
      ],
      "source": [
        "train_df[\"Dialogue\"][6]"
      ]
    },
    {
      "cell_type": "code",
      "execution_count": 38,
      "metadata": {
        "id": "urfCkIjmip1s"
      },
      "outputs": [],
      "source": [
        "train_df = train_df[train_df[\"Dialogue\"] != \"\"]\n"
      ]
    },
    {
      "cell_type": "code",
      "execution_count": 39,
      "metadata": {
        "colab": {
          "base_uri": "https://localhost:8080/"
        },
        "id": "h0FF-PRFjomj",
        "outputId": "661f95df-5d91-4359-9163-2fdcc8337cac"
      },
      "outputs": [
        {
          "name": "stdout",
          "output_type": "stream",
          "text": [
            "joey go embarrassed go nothing prepare\n",
            "forty five minute ticket musicman\n",
            "well say hump screw front b b\n",
            "yes well yes\n",
            "hello talk audition til joey chandler well nobody tell talk chandler nevermind\n",
            "hey uh okay come\n",
            "look way dump right mean woman unbelievably sexy beautiful intelligent unattainable tell\n",
            "okay time quit\n",
            "monica\n",
            "impossible\n",
            "hell\n",
            "give hand string gimme pick want learn play guitar\n",
            "find\n",
            "glass fat\n",
            "hmm hmm ross\n",
            "well get comfortable soon seth get real job two gong back chicken supernova\n",
            "ross surprise party rachel\n",
            "tell david\n",
            "go one popular got ride chip motorcycle wear letterman jacket go one wear band uniform specially make\n",
            "know son\n",
            "already\n",
            "uh mona go\n",
            "know jerry give\n",
            "right\n",
            "ooh yeah go anywhere\n"
          ]
        }
      ],
      "source": [
        "for i in range(1,250,10):\n",
        "  print(train_df[\"Dialogue\"][i])\n"
      ]
    },
    {
      "cell_type": "markdown",
      "metadata": {
        "id": "tigIRFAHf-1P"
      },
      "source": [
        "### Now we finished pre processing our data\n",
        "\n",
        "\n",
        "\n",
        "\n"
      ]
    },
    {
      "cell_type": "markdown",
      "metadata": {
        "id": "_w7nBPEEMmA1"
      },
      "source": [
        " ![finally_over.jpg](data:image/jpeg;base64,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)"
      ]
    },
    {
      "cell_type": "markdown",
      "metadata": {
        "id": "taxvt3Z_Xm2N"
      },
      "source": [
        "Train-test-valdiation split"
      ]
    },
    {
      "cell_type": "code",
      "execution_count": 40,
      "metadata": {
        "id": "pmALvC3uXNDu"
      },
      "outputs": [],
      "source": [
        "X = train_df['Dialogue']\n",
        "Y = train_df['Show']"
      ]
    },
    {
      "cell_type": "code",
      "execution_count": 41,
      "metadata": {
        "id": "fs4TYRS-XocN"
      },
      "outputs": [],
      "source": [
        "from sklearn.model_selection import train_test_split\n",
        "x_train, x_test, y_train, y_test = train_test_split(X, Y, test_size=0.2, random_state=88)"
      ]
    },
    {
      "cell_type": "code",
      "execution_count": 42,
      "metadata": {
        "colab": {
          "base_uri": "https://localhost:8080/"
        },
        "id": "0HV0lGmDXpi3",
        "outputId": "b4cc6b87-9714-40fd-c925-33a10201be27"
      },
      "outputs": [
        {
          "name": "stdout",
          "output_type": "stream",
          "text": [
            "Friends     29979\n",
            "Seinfeld    23732\n",
            "Name: Show, dtype: int64\n",
            "Friends     7462\n",
            "Seinfeld    5966\n",
            "Name: Show, dtype: int64\n"
          ]
        }
      ],
      "source": [
        "train_label_count = y_train.value_counts()\n",
        "test_label_count = y_test.value_counts()\n",
        "print(train_label_count)\n",
        "print(test_label_count)"
      ]
    },
    {
      "cell_type": "markdown",
      "metadata": {
        "id": "VbTJ0QV3YATZ"
      },
      "source": [
        "Let's split the test set to test and validation:"
      ]
    },
    {
      "cell_type": "code",
      "execution_count": 43,
      "metadata": {
        "id": "S03K5utEYByh"
      },
      "outputs": [],
      "source": [
        "x_val, x_test, y_val, y_test = train_test_split(x_test, y_test, test_size=0.5, random_state=42)"
      ]
    },
    {
      "cell_type": "markdown",
      "metadata": {
        "id": "AD-s5rIOYcn-"
      },
      "source": []
    },
    {
      "cell_type": "code",
      "execution_count": 44,
      "metadata": {
        "colab": {
          "base_uri": "https://localhost:8080/"
        },
        "id": "JyBmsps7YG4_",
        "outputId": "9dd2988d-a04f-4cf5-8027-94bc93ce117b"
      },
      "outputs": [
        {
          "name": "stdout",
          "output_type": "stream",
          "text": [
            "x_train shape: (53711,)\n",
            "y_train shape: (53711,)\n",
            "x_test shape: (6714,)\n",
            "y_test shape: (6714,)\n",
            "x_val shape: (6714,)\n",
            "y_val shape: (6714,)\n"
          ]
        }
      ],
      "source": [
        "print('x_train shape:', x_train.shape)\n",
        "print('y_train shape:', y_train.shape)\n",
        "print('x_test shape:', x_test.shape)\n",
        "print('y_test shape:', y_test.shape)\n",
        "print('x_val shape:', x_val.shape)\n",
        "print('y_val shape:', y_val.shape)"
      ]
    },
    {
      "cell_type": "markdown",
      "metadata": {
        "id": "Txjj-1rTYdX2"
      },
      "source": [
        "TF-IDF\n"
      ]
    },
    {
      "cell_type": "markdown",
      "metadata": {
        "id": "5yuizdslYmOO"
      },
      "source": [
        "how many unique words are there"
      ]
    },
    {
      "cell_type": "code",
      "execution_count": 45,
      "metadata": {
        "colab": {
          "base_uri": "https://localhost:8080/"
        },
        "id": "WHdljTHgY6SM",
        "outputId": "d3436f16-fbea-45fc-f2f3-674754bd3531"
      },
      "outputs": [
        {
          "name": "stdout",
          "output_type": "stream",
          "text": [
            "originally the dataset had 59987 unique words, after processing it has 14798\n"
          ]
        }
      ],
      "source": [
        "# Combine all dialogue strings into a single string\n",
        "all_dialogues = ' '.join(train_df['Dialogue'])\n",
        "\n",
        "# Tokenize the combined string into words\n",
        "words = all_dialogues.split()\n",
        "\n",
        "# Get the count of unique words\n",
        "unique_word_count_train = len(set(words))\n",
        "\n",
        "# Combine all dialogue strings into a single string\n",
        "all_dialogues = ' '.join(base_train_df['Dialogue'])\n",
        "\n",
        "# Tokenize the combined string into words\n",
        "words = all_dialogues.split()\n",
        "\n",
        "# Get the count of unique words\n",
        "unique_word_count_base = len(set(words))\n",
        "\n",
        "print(f'originally the dataset had {unique_word_count_base} unique words, after processing it has {unique_word_count_train}')\n"
      ]
    },
    {
      "cell_type": "code",
      "execution_count": 46,
      "metadata": {
        "id": "U7B82Z6uocfA"
      },
      "outputs": [],
      "source": [
        "import numpy as np\n",
        "def get_additional_features(data, additional_feature_names):\n",
        "    cnt_names_new=0\n",
        "    additional_features = []\n",
        "\n",
        "    for sample in data:\n",
        "        sample_features = []\n",
        "        for feature_name in additional_feature_names:\n",
        "            # Check if the feature substring exists in the sample string\n",
        "            if feature_name in sample:\n",
        "                sample_features.append(1)  # Feature present\n",
        "            else:\n",
        "                sample_features.append(0)  # Feature not present\n",
        "\n",
        "\n",
        "        additional_features.append(sample_features)\n",
        "\n",
        "    return np.array(additional_features)"
      ]
    },
    {
      "cell_type": "code",
      "execution_count": 47,
      "metadata": {
        "colab": {
          "base_uri": "https://localhost:8080/"
        },
        "id": "ryONRdWGB26x",
        "outputId": "de5adbc3-31b6-4aab-d044-9c974d46a031"
      },
      "outputs": [
        {
          "name": "stdout",
          "output_type": "stream",
          "text": [
            "x_train_tv: (53711, 5000)\n",
            "x_test_tv: (6714, 5000)\n",
            "x_val_tv: (6714, 5000)\n"
          ]
        }
      ],
      "source": [
        "import numpy as np\n",
        "from sklearn.feature_extraction.text import TfidfVectorizer\n",
        "\n",
        "tv = TfidfVectorizer(analyzer='word', max_features=5000)\n",
        "\n",
        "# Fit and transform on the training set\n",
        "x_train_tv = tv.fit_transform(x_train)\n",
        "\n",
        "# Transform the test and validation sets\n",
        "x_test_tv = tv.transform(x_test)\n",
        "x_val_tv = tv.transform(x_val)\n",
        "\n",
        "print('x_train_tv:', x_train_tv.shape)\n",
        "print('x_test_tv:', x_test_tv.shape)\n",
        "print('x_val_tv:', x_val_tv.shape)\n",
        "# # Obtain the feature names selected by TF-IDF\n",
        "# selected_feature_names = tv.get_feature_names_out()\n",
        "\n",
        "# # Filter out the feature names not in the selected features\n",
        "# additional_feature_names = [name for name in all_names if name not in selected_feature_names]\n",
        "# print(f\"{len(additional_feature_names)} number of character names added to the corpus\")\n",
        "\n",
        "# x_train_additional = get_additional_features(x_train, additional_feature_names)\n",
        "# x_test_additional = get_additional_features(x_test, additional_feature_names)\n",
        "# x_val_additional = get_additional_features(x_val, additional_feature_names)\n",
        "\n",
        "\n",
        "# x_train_combined = np.concatenate((x_train_tv.toarray(), x_train_additional), axis=1)\n",
        "# x_test_combined = np.concatenate((x_test_tv.toarray(), x_test_additional), axis=1)\n",
        "# x_val_combined = np.concatenate((x_val_tv.toarray(), x_val_additional), axis=1)\n",
        "\n",
        "# print('x_train_combined:', x_train_combined.shape)\n",
        "# print('x_test_combined:', x_test_combined.shape)\n",
        "# print('x_val_combined:', x_val_combined.shape)\n"
      ]
    },
    {
      "cell_type": "code",
      "execution_count": 48,
      "metadata": {
        "colab": {
          "base_uri": "https://localhost:8080/"
        },
        "id": "aqUhhZd7qjJm",
        "outputId": "ed13b102-ae58-4232-e16c-737a52c35b4a"
      },
      "outputs": [
        {
          "name": "stdout",
          "output_type": "stream",
          "text": [
            "  (0, 1571)\t0.3708147454077047\n",
            "  (0, 401)\t0.27548802434884406\n",
            "  (0, 1437)\t0.6769844181413279\n",
            "  (0, 4807)\t0.31619270544643313\n",
            "  (0, 4695)\t0.3019236987439592\n",
            "  (0, 1840)\t0.22961692018074792\n",
            "  (0, 2618)\t0.23897875786100325\n",
            "  (0, 1821)\t0.16530077749239327\n"
          ]
        }
      ],
      "source": [
        "print(x_train_tv[0])"
      ]
    },
    {
      "cell_type": "markdown",
      "metadata": {
        "id": "Rf-z0pt1ZCqg"
      },
      "source": [
        "Labeling"
      ]
    },
    {
      "cell_type": "markdown",
      "metadata": {
        "id": "UTe8xlMkY-IJ"
      },
      "source": [
        "We need to convert the values of 'friends' and 'Seinfeld' to ones and zeros:"
      ]
    },
    {
      "cell_type": "code",
      "execution_count": 49,
      "metadata": {
        "id": "flXbq9GHdPVq"
      },
      "outputs": [],
      "source": [
        "from sklearn.preprocessing import LabelBinarizer\n",
        "lb = LabelBinarizer()\n",
        "y_train = lb.fit_transform(y_train)\n",
        "y_test = lb.transform(y_test)\n",
        "y_val = lb.transform(y_val)"
      ]
    },
    {
      "cell_type": "markdown",
      "metadata": {
        "id": "D_HIS0ekN09E"
      },
      "source": [
        "LabelBinarizer sets unique values in ascending order"
      ]
    },
    {
      "cell_type": "code",
      "execution_count": 50,
      "metadata": {
        "id": "YvG5gHjxsNWy"
      },
      "outputs": [],
      "source": [
        "FRIENDS=0\n",
        "SEINFELD=1\n"
      ]
    },
    {
      "cell_type": "markdown",
      "metadata": {
        "id": "FE1K9VX3JXuA"
      },
      "source": [
        "Building a model"
      ]
    },
    {
      "cell_type": "markdown",
      "metadata": {
        "id": "15ecB4DlJenV"
      },
      "source": [
        "Logistic regression clasifier"
      ]
    },
    {
      "cell_type": "code",
      "execution_count": 51,
      "metadata": {
        "colab": {
          "base_uri": "https://localhost:8080/"
        },
        "id": "TwFrdg6-b2z1",
        "outputId": "d984ec30-eef0-433e-e170-d649d72a5efd"
      },
      "outputs": [
        {
          "name": "stdout",
          "output_type": "stream",
          "text": [
            "TFIDF time (seconds):  0\n"
          ]
        }
      ],
      "source": [
        "from sklearn.linear_model import LogisticRegression\n",
        "import datetime\n",
        "\n",
        "begin_time = datetime.datetime.now()\n",
        "lr_tfidf = LogisticRegression(penalty='l2', max_iter=1000, random_state=42)\n",
        "lr_tfidf.fit(x_train_tv, y_train.ravel())\n",
        "print('TFIDF time (seconds): ', str((datetime.datetime.now() - begin_time).seconds))"
      ]
    },
    {
      "cell_type": "code",
      "execution_count": 52,
      "metadata": {
        "id": "QtrElLunbof0"
      },
      "outputs": [],
      "source": [
        "from sklearn.metrics import classification_report, confusion_matrix, accuracy_score, roc_auc_score, roc_curve\n",
        "\n",
        "def evaluate(model, model_name, x, y, scores_dict=None, roc_dict=None):\n",
        "  y_pred = model.predict(x)\n",
        "  y_pred_proba = model.predict_proba(x)[:, 1]\n",
        "\n",
        "  scores_dict[model_name] = {}\n",
        "  scores_dict[model_name]['AUC'] = roc_auc_score(y, y_pred_proba)\n",
        "  scores_dict[model_name]['Accuracy'] =  accuracy_score(y, y_pred)\n",
        "\n",
        "  roc_dict[model_name] = {}\n",
        "  roc_dict[model_name]['FPR'], roc_dict[model_name]['TPR'], _ = roc_curve(y, y_pred_proba)\n",
        "\n",
        "  return scores_dict"
      ]
    },
    {
      "cell_type": "code",
      "execution_count": 53,
      "metadata": {
        "id": "tkPVEW77toe5"
      },
      "outputs": [],
      "source": [
        "scores_dict = {}\n",
        "roc_dict = {}"
      ]
    },
    {
      "cell_type": "code",
      "execution_count": 54,
      "metadata": {
        "colab": {
          "base_uri": "https://localhost:8080/"
        },
        "id": "NewD1iOreOcU",
        "outputId": "a60885c5-fe1a-4ff4-e879-99b8aff039c1"
      },
      "outputs": [
        {
          "data": {
            "text/plain": [
              "0.7199880845993446"
            ]
          },
          "execution_count": 54,
          "metadata": {},
          "output_type": "execute_result"
        }
      ],
      "source": [
        "evaluate(lr_tfidf, 'logistic_tfidf', x_test_tv, y_test, scores_dict, roc_dict)['logistic_tfidf']['Accuracy']"
      ]
    },
    {
      "cell_type": "markdown",
      "metadata": {
        "id": "mRlFRBHKe2zf"
      },
      "source": [
        "Deep Learning"
      ]
    },
    {
      "cell_type": "code",
      "execution_count": 55,
      "metadata": {
        "id": "HkPED7Bahioo"
      },
      "outputs": [],
      "source": [
        "from keras.models import Sequential\n",
        "from keras.layers import Dropout, Conv1D, Flatten, Dense, Embedding\n",
        "from keras.preprocessing import sequence\n",
        "from tensorflow.keras.preprocessing.text import Tokenizer"
      ]
    },
    {
      "cell_type": "code",
      "execution_count": 56,
      "metadata": {
        "id": "QzH4qWrQi8Oh"
      },
      "outputs": [],
      "source": [
        "token = Tokenizer(lower=False)\n",
        "token.fit_on_texts(x_train)"
      ]
    },
    {
      "cell_type": "code",
      "execution_count": 57,
      "metadata": {
        "id": "M5BNFyDC7fjA"
      },
      "outputs": [],
      "source": [
        "x_train_dl = token.texts_to_sequences(x_train)\n",
        "x_val_dl = token.texts_to_sequences(x_val)\n",
        "x_test_dl = token.texts_to_sequences(x_test)"
      ]
    },
    {
      "cell_type": "code",
      "execution_count": 59,
      "metadata": {
        "id": "_D6aFt63iztT"
      },
      "outputs": [],
      "source": [
        "doc_len_list = [len(doc) for doc in x_train_dl]"
      ]
    },
    {
      "cell_type": "code",
      "execution_count": 60,
      "metadata": {
        "colab": {
          "base_uri": "https://localhost:8080/"
        },
        "id": "VXHkCflPi1FK",
        "outputId": "bb4aca6a-537b-4551-bafd-f6136fe28159"
      },
      "outputs": [
        {
          "data": {
            "text/plain": [
              "(173, 1, 5.022714155387165)"
            ]
          },
          "execution_count": 60,
          "metadata": {},
          "output_type": "execute_result"
        }
      ],
      "source": [
        "max(doc_len_list), min(doc_len_list), np.mean(doc_len_list)\n"
      ]
    },
    {
      "cell_type": "code",
      "execution_count": 61,
      "metadata": {
        "colab": {
          "base_uri": "https://localhost:8080/",
          "height": 447
        },
        "id": "44MGMaWNi6wO",
        "outputId": "8ad495b2-31bc-4a35-dc18-f7b8d0dd4ed0"
      },
      "outputs": [
        {
          "data": {
            "text/plain": [
              "<Axes: ylabel='Count'>"
            ]
          },
          "execution_count": 61,
          "metadata": {},
          "output_type": "execute_result"
        },
        {
          "data": {
            "image/png": "[encoded data removed]",
            "text/plain": [
              "<Figure size 640x480 with 1 Axes>"
            ]
          },
          "metadata": {},
          "output_type": "display_data"
        }
      ],
      "source": [
        "import seaborn as sns\n",
        "sns.histplot(doc_len_list)"
      ]
    },
    {
      "cell_type": "code",
      "execution_count": 62,
      "metadata": {
        "id": "jIipKt0LjP5T"
      },
      "outputs": [],
      "source": [
        "MAX_WORDS = 25\n",
        "\n",
        "x_train_dl = sequence.pad_sequences(x_train_dl, maxlen=MAX_WORDS)\n",
        "x_val_dl = sequence.pad_sequences(x_val_dl, maxlen=MAX_WORDS)\n",
        "x_test_dl = sequence.pad_sequences(x_test_dl, maxlen=MAX_WORDS)"
      ]
    },
    {
      "cell_type": "code",
      "execution_count": 63,
      "metadata": {
        "colab": {
          "base_uri": "https://localhost:8080/"
        },
        "id": "PX5yYszdjXCU",
        "outputId": "2880f9e7-2980-4d9d-b204-bd886d4047e9"
      },
      "outputs": [
        {
          "data": {
            "text/plain": [
              "(53711, 25)"
            ]
          },
          "execution_count": 63,
          "metadata": {},
          "output_type": "execute_result"
        }
      ],
      "source": [
        "x_train_dl.shape"
      ]
    },
    {
      "cell_type": "code",
      "execution_count": 64,
      "metadata": {
        "colab": {
          "base_uri": "https://localhost:8080/"
        },
        "id": "BjP4Pi6Xjkfv",
        "outputId": "097cba5a-076c-4358-f430-e26a76b3356a"
      },
      "outputs": [
        {
          "data": {
            "text/plain": [
              "array([   0,    0,    0,    0,    0,    0,    0,    0,    0,    0,    0,\n",
              "          0,    0,    0,    0,    1,   25,   23,  109,  146,  210, 7595,\n",
              "        210,   62,  361], dtype=int32)"
            ]
          },
          "execution_count": 64,
          "metadata": {},
          "output_type": "execute_result"
        }
      ],
      "source": [
        "x_train_dl[0, :]"
      ]
    },
    {
      "cell_type": "code",
      "execution_count": 65,
      "metadata": {
        "colab": {
          "base_uri": "https://localhost:8080/"
        },
        "id": "3K-gdPC6jqDw",
        "outputId": "935e3b72-3fe6-4eb1-f355-f5f3f3ac0a7b"
      },
      "outputs": [
        {
          "data": {
            "text/plain": [
              "13413"
            ]
          },
          "execution_count": 65,
          "metadata": {},
          "output_type": "execute_result"
        }
      ],
      "source": [
        "total_words = len(token.word_index) + 1\n",
        "total_words"
      ]
    },
    {
      "cell_type": "code",
      "execution_count": 65,
      "metadata": {
        "id": "7se4o1s_G2Gi"
      },
      "outputs": [],
      "source": []
    },
    {
      "cell_type": "code",
      "execution_count": 66,
      "metadata": {
        "id": "OqRvWPP_GGea"
      },
      "outputs": [],
      "source": [
        "from keras.callbacks import EarlyStopping\n",
        "early_stopping = EarlyStopping(monitor='val_loss', patience=4, restore_best_weights=True)"
      ]
    },
    {
      "cell_type": "code",
      "execution_count": 67,
      "metadata": {
        "id": "-x32l5RN0X08"
      },
      "outputs": [],
      "source": [
        "from keras.optimizers import Adam\n",
        "optimizer = Adam(learning_rate=0.001)"
      ]
    },
    {
      "cell_type": "markdown",
      "metadata": {
        "id": "sNxK6d7LKKEr"
      },
      "source": [
        "\n",
        "Let's build the architecture:"
      ]
    },
    {
      "cell_type": "code",
      "execution_count": 68,
      "metadata": {
        "colab": {
          "base_uri": "https://localhost:8080/"
        },
        "id": "QVNXBWtnjuC_",
        "outputId": "dfe7c214-d2de-42ed-c2f9-921be4de22f5"
      },
      "outputs": [
        {
          "name": "stdout",
          "output_type": "stream",
          "text": [
            "Model: \"sequential\"\n",
            "_________________________________________________________________\n",
            " Layer (type)                Output Shape              Param #   \n",
            "=================================================================\n",
            " embedding (Embedding)       (None, 25, 16)            214608    \n",
            "                                                                 \n",
            " conv1d (Conv1D)             (None, 25, 32)            1568      \n",
            "                                                                 \n",
            " conv1d_1 (Conv1D)           (None, 25, 16)            1552      \n",
            "                                                                 \n",
            " flatten (Flatten)           (None, 400)               0         \n",
            "                                                                 \n",
            " dense (Dense)               (None, 128)               51328     \n",
            "                                                                 \n",
            " dropout (Dropout)           (None, 128)               0         \n",
            "                                                                 \n",
            " dense_1 (Dense)             (None, 64)                8256      \n",
            "                                                                 \n",
            " dropout_1 (Dropout)         (None, 64)                0         \n",
            "                                                                 \n",
            " dense_2 (Dense)             (None, 1)                 65        \n",
            "                                                                 \n",
            "=================================================================\n",
            "Total params: 277377 (1.06 MB)\n",
            "Trainable params: 277377 (1.06 MB)\n",
            "Non-trainable params: 0 (0.00 Byte)\n",
            "_________________________________________________________________\n"
          ]
        }
      ],
      "source": [
        "from keras.models import Sequential\n",
        "from keras.layers import Embedding, Conv1D, Flatten, Dense, Dropout\n",
        "\n",
        "\n",
        "model = Sequential()\n",
        "model.add(Embedding(input_dim=total_words, output_dim=16, input_length=MAX_WORDS))\n",
        "model.add(Conv1D(32, 3, padding='same', activation='relu'))\n",
        "model.add(Conv1D(16, 3, padding='same', activation='relu'))\n",
        "model.add(Flatten())\n",
        "model.add(Dense(128, activation='relu'))\n",
        "model.add(Dropout(0.5))\n",
        "model.add(Dense(64, activation='relu'))\n",
        "model.add(Dropout(0.5))\n",
        "model.add(Dense(1, activation='sigmoid'))\n",
        "# Compile the model with a lower learning rate\n",
        "model.compile(loss='binary_crossentropy', optimizer=optimizer, metrics=['accuracy'])\n",
        "model.summary()\n"
      ]
    },
    {
      "cell_type": "code",
      "execution_count": 69,
      "metadata": {
        "colab": {
          "base_uri": "https://localhost:8080/"
        },
        "id": "VdUrTS4iIjiI",
        "outputId": "1ad2eca4-e835-4a37-c3e0-5aff1040df21"
      },
      "outputs": [
        {
          "name": "stdout",
          "output_type": "stream",
          "text": [
            "Epoch 1/15\n",
            "840/840 [==============================] - 32s 29ms/step - loss: 0.5626 - accuracy: 0.6739 - val_loss: 0.4951 - val_accuracy: 0.7321\n",
            "Epoch 2/15\n",
            "840/840 [==============================] - 6s 8ms/step - loss: 0.4596 - accuracy: 0.7608 - val_loss: 0.4925 - val_accuracy: 0.7365\n",
            "Epoch 3/15\n",
            "840/840 [==============================] - 7s 9ms/step - loss: 0.4093 - accuracy: 0.7885 - val_loss: 0.5125 - val_accuracy: 0.7398\n",
            "Epoch 4/15\n",
            "840/840 [==============================] - 6s 7ms/step - loss: 0.3704 - accuracy: 0.8080 - val_loss: 0.5479 - val_accuracy: 0.7386\n",
            "Epoch 5/15\n",
            "840/840 [==============================] - 6s 8ms/step - loss: 0.3377 - accuracy: 0.8265 - val_loss: 0.5939 - val_accuracy: 0.7306\n",
            "Epoch 6/15\n",
            "840/840 [==============================] - 5s 6ms/step - loss: 0.3115 - accuracy: 0.8381 - val_loss: 0.6756 - val_accuracy: 0.7298\n"
          ]
        }
      ],
      "source": [
        "history = model.fit(x_train_dl, y_train, validation_data=(x_val_dl, y_val), epochs=15, batch_size=64, callbacks=[early_stopping])"
      ]
    },
    {
      "cell_type": "code",
      "execution_count": 133,
      "metadata": {
        "colab": {
          "base_uri": "https://localhost:8080/"
        },
        "id": "PlBD6w0Xj9th",
        "outputId": "d7331030-69be-4288-ec85-1bc7c48b39fa"
      },
      "outputs": [
        {
          "name": "stdout",
          "output_type": "stream",
          "text": [
            "210/210 [==============================] - 1s 4ms/step - loss: 0.4925 - accuracy: 0.7365\n"
          ]
        },
        {
          "data": {
            "text/plain": [
              "0.7365207076072693"
            ]
          },
          "execution_count": 133,
          "metadata": {},
          "output_type": "execute_result"
        }
      ],
      "source": [
        "loss, val_accuracy=model.evaluate(x_val_dl, y_val)\n",
        "val_accuracy"
      ]
    },
    {
      "cell_type": "code",
      "execution_count": 134,
      "metadata": {
        "colab": {
          "base_uri": "https://localhost:8080/"
        },
        "id": "_ktyrz7PSmj_",
        "outputId": "3c9bab8a-e33d-406c-8c39-822d0498021d"
      },
      "outputs": [
        {
          "name": "stdout",
          "output_type": "stream",
          "text": [
            "1679/1679 [==============================] - 5s 3ms/step - loss: 0.3951 - accuracy: 0.8008\n"
          ]
        },
        {
          "data": {
            "text/plain": [
              "0.8007856607437134"
            ]
          },
          "execution_count": 134,
          "metadata": {},
          "output_type": "execute_result"
        }
      ],
      "source": [
        "loss, train_accuracy = model.evaluate(x_train_dl, y_train)\n",
        "train_accuracy"
      ]
    },
    {
      "cell_type": "markdown",
      "metadata": {
        "id": "d8Wy3ieLfl1x"
      },
      "source": [
        "## Functions to pipeline"
      ]
    },
    {
      "cell_type": "markdown",
      "metadata": {
        "id": "s28vUpZaG4Oo"
      },
      "source": [
        "load test data"
      ]
    },
    {
      "cell_type": "code",
      "execution_count": 71,
      "metadata": {
        "id": "jaoEKzyUG3UJ"
      },
      "outputs": [],
      "source": [
        "test_df = pd.read_csv('https://raw.githubusercontent.com/odedovadia/AdvancedMLDLCourse/main/Assignments/Assignment%20II%20-%20NLP/test.csv')\n"
      ]
    },
    {
      "cell_type": "code",
      "execution_count": 72,
      "metadata": {
        "colab": {
          "base_uri": "https://localhost:8080/",
          "height": 81,
          "referenced_widgets": [
            "cc963481e96b4182956c6abc76ddb9cf",
            "a605474f48784c27996aa05b41482093",
            "fdb5e284a00042cabc5c06e58b59918e",
            "4c395162359146519c894c2f413740f5",
            "66ed9eb52bfc4290975fc6c6f87120ad",
            "2e5951c271284b149c07e3acd283ba7d",
            "10138481a06f46e5af005b5366727c02",
            "bdb250df43954a44b7f9492f721fef5c",
            "fb9d0db4553a4762a1583c05a82aa415",
            "2169d312b0f54bcd962ed9bfb19d6116",
            "768b452179664016b8c5e0093e60e54b",
            "04c7ae5cceba4481932a4f19992a4d3d",
            "75269feb93124685aa5ddd07cdfd0102",
            "65f4ff7b0be5406284636a6612ea839b",
            "3a9c0c9fa36248bd9b7d9636eb433467",
            "bec41e50275f436aaee64f5786d4a903",
            "2da733e869ab4a5b84677522539526fb",
            "7b0ae917b0bd4a44810988ca34751d18",
            "009aa82285a7404ebef23a638b4bff19",
            "b5d17dec2c674ff5a120a2869aa8a7c0",
            "b52356f149fd4505842207423e656cbf",
            "c31d49a90ad94260ab8e928baf98a92f"
          ]
        },
        "id": "6t7p9apSfpCd",
        "outputId": "4ad874a7-6aed-4eb2-bd14-ed4afb5b1b9f"
      },
      "outputs": [
        {
          "data": {
            "application/vnd.jupyter.widget-view+json": {
              "model_id": "cc963481e96b4182956c6abc76ddb9cf",
              "version_major": 2,
              "version_minor": 0
            },
            "text/plain": [
              "Lemmatizing:   0%|          | 0/5 [00:00<?, ?it/s]"
            ]
          },
          "metadata": {},
          "output_type": "display_data"
        },
        {
          "data": {
            "application/vnd.jupyter.widget-view+json": {
              "model_id": "04c7ae5cceba4481932a4f19992a4d3d",
              "version_major": 2,
              "version_minor": 0
            },
            "text/plain": [
              "  0%|          | 0/4245 [00:00<?, ?it/s]"
            ]
          },
          "metadata": {},
          "output_type": "display_data"
        }
      ],
      "source": [
        "def pipline (test_df):\n",
        "\n",
        "  # Apply the cleaning function to the 'Dialogue' column\n",
        "  test_df['Dialogue'] = test_df['Dialogue'].apply(clean_dialogue)\n",
        "\n",
        "  # Convert the 'dialogue' column to lowercase\n",
        "  test_df['Dialogue'] = test_df['Dialogue'].str.lower()\n",
        "\n",
        "  # lemmatize\n",
        "  test_df = process_dataframe(test_df)\n",
        "\n",
        "  # remove stop words\n",
        "  test_df['Dialogue'] = test_df['Dialogue'].progress_apply(remove_stopwords)\n",
        "\n",
        "  # remove special chars\n",
        "  test_df['Dialogue'] = test_df['Dialogue'].apply(remove_special_characters)\n",
        "\n",
        "  # handle multiple spaces\n",
        "  test_df[\"Dialogue\"] = test_df[\"Dialogue\"].apply(lambda x: re.sub(r'\\s+', ' ', x))\n",
        "\n",
        "  test_df[\"Dialogue\"] = test_df[\"Dialogue\"].apply(lambda x: re.sub(r'\\s+', ' ', x.strip()))\n",
        "\n",
        "  return test_df\n",
        "\n",
        "\n",
        "test_df = pipline(test_df)\n"
      ]
    },
    {
      "cell_type": "code",
      "execution_count": 73,
      "metadata": {
        "colab": {
          "base_uri": "https://localhost:8080/",
          "height": 206
        },
        "id": "kJA1_xEPLqeN",
        "outputId": "c74a82c2-b49e-414b-c87b-069f9b87fa5a"
      },
      "outputs": [
        {
          "data": {
            "application/vnd.google.colaboratory.intrinsic+json": {
              "summary": "{\n  \"name\": \"test_df\",\n  \"rows\": 4245,\n  \"fields\": [\n    {\n      \"column\": \"Dialogue\",\n      \"properties\": {\n        \"dtype\": \"string\",\n        \"num_unique_values\": 4238,\n        \"samples\": [\n          \"crusty old man say rest rat play moroccas thank good night\",\n          \"wake human slug wake wake hold anymore excuse get go bathroom\",\n          \"mrs bing tell read everything ever write mean mean read euphoria midnight want become writer\"\n        ],\n        \"semantic_type\": \"\",\n        \"description\": \"\"\n      }\n    },\n    {\n      \"column\": \"Character\",\n      \"properties\": {\n        \"dtype\": \"category\",\n        \"num_unique_values\": 10,\n        \"samples\": [\n          \"chandler\",\n          \"monica\",\n          \"ross\"\n        ],\n        \"semantic_type\": \"\",\n        \"description\": \"\"\n      }\n    },\n    {\n      \"column\": \"Episode\",\n      \"properties\": {\n        \"dtype\": \"category\",\n        \"num_unique_values\": 394,\n        \"samples\": [\n          \"Season-01 Episode-22-The One With the Ick Factor\",\n          \"Season-08 Episode-23-08x24 - The One Where Rachel Has A Baby\",\n          \"Season-03 Episode-10-The One Where Rachel Quits\"\n        ],\n        \"semantic_type\": \"\",\n        \"description\": \"\"\n      }\n    },\n    {\n      \"column\": \"Show\",\n      \"properties\": {\n        \"dtype\": \"category\",\n        \"num_unique_values\": 2,\n        \"samples\": [\n          \"Seinfeld\",\n          \"Friends\"\n        ],\n        \"semantic_type\": \"\",\n        \"description\": \"\"\n      }\n    },\n    {\n      \"column\": \"Dialogue_length\",\n      \"properties\": {\n        \"dtype\": \"number\",\n        \"std\": 15,\n        \"min\": 15,\n        \"max\": 234,\n        \"num_unique_values\": 99,\n        \"samples\": [\n          72,\n          91\n        ],\n        \"semantic_type\": \"\",\n        \"description\": \"\"\n      }\n    }\n  ]\n}",
              "type": "dataframe",
              "variable_name": "test_df"
            },
            "text/html": [
              "\n",
              "  <div id=\"df-8f9bb147-3502-49b4-9543-26cee3da2c36\" class=\"colab-df-container\">\n",
              "    <div>\n",
              "<style scoped>\n",
              "    .dataframe tbody tr th:only-of-type {\n",
              "        vertical-align: middle;\n",
              "    }\n",
              "\n",
              "    .dataframe tbody tr th {\n",
              "        vertical-align: top;\n",
              "    }\n",
              "\n",
              "    .dataframe thead th {\n",
              "        text-align: right;\n",
              "    }\n",
              "</style>\n",
              "<table border=\"1\" class=\"dataframe\">\n",
              "  <thead>\n",
              "    <tr style=\"text-align: right;\">\n",
              "      <th></th>\n",
              "      <th>Dialogue</th>\n",
              "      <th>Character</th>\n",
              "      <th>Episode</th>\n",
              "      <th>Show</th>\n",
              "      <th>Dialogue_length</th>\n",
              "    </tr>\n",
              "  </thead>\n",
              "  <tbody>\n",
              "    <tr>\n",
              "      <th>0</th>\n",
              "      <td>oh god great smart brainy bright clever love t...</td>\n",
              "      <td>joey</td>\n",
              "      <td>Season-10 Episode-05-The One Where Rachel's Si...</td>\n",
              "      <td>Friends</td>\n",
              "      <td>30</td>\n",
              "    </tr>\n",
              "    <tr>\n",
              "      <th>1</th>\n",
              "      <td>listen sure dad care probably think funny tell...</td>\n",
              "      <td>monica</td>\n",
              "      <td>Season-07 Episode-03-The One With Phoebe’s Coo...</td>\n",
              "      <td>Friends</td>\n",
              "      <td>20</td>\n",
              "    </tr>\n",
              "    <tr>\n",
              "      <th>2</th>\n",
              "      <td>well could try go stuff put shoebox</td>\n",
              "      <td>george</td>\n",
              "      <td>S09E16</td>\n",
              "      <td>Seinfeld</td>\n",
              "      <td>18</td>\n",
              "    </tr>\n",
              "    <tr>\n",
              "      <th>3</th>\n",
              "      <td>yes verbal contract take word lose</td>\n",
              "      <td>kramer</td>\n",
              "      <td>S07E13</td>\n",
              "      <td>Seinfeld</td>\n",
              "      <td>20</td>\n",
              "    </tr>\n",
              "    <tr>\n",
              "      <th>4</th>\n",
              "      <td>um straighten shower curtain get mildew nice</td>\n",
              "      <td>monica</td>\n",
              "      <td>Season-02 Episode-18-The One Where Dr. Remore ...</td>\n",
              "      <td>Friends</td>\n",
              "      <td>17</td>\n",
              "    </tr>\n",
              "  </tbody>\n",
              "</table>\n",
              "</div>\n",
              "    <div class=\"colab-df-buttons\">\n",
              "\n",
              "  <div class=\"colab-df-container\">\n",
              "    <button class=\"colab-df-convert\" onclick=\"convertToInteractive('df-8f9bb147-3502-49b4-9543-26cee3da2c36')\"\n",
              "            title=\"Convert this dataframe to an interactive table.\"\n",
              "            style=\"display:none;\">\n",
              "\n",
              "  <svg xmlns=\"http://www.w3.org/2000/svg\" height=\"24px\" viewBox=\"0 -960 960 960\">\n",
              "    <path d=\"M120-120v-720h720v720H120Zm60-500h600v-160H180v160Zm220 220h160v-160H400v160Zm0 220h160v-160H400v160ZM180-400h160v-160H180v160Zm440 0h160v-160H620v160ZM180-180h160v-160H180v160Zm440 0h160v-160H620v160Z\"/>\n",
              "  </svg>\n",
              "    </button>\n",
              "\n",
              "  <style>\n",
              "    .colab-df-container {\n",
              "      display:flex;\n",
              "      gap: 12px;\n",
              "    }\n",
              "\n",
              "    .colab-df-convert {\n",
              "      background-color: #E8F0FE;\n",
              "      border: none;\n",
              "      border-radius: 50%;\n",
              "      cursor: pointer;\n",
              "      display: none;\n",
              "      fill: #1967D2;\n",
              "      height: 32px;\n",
              "      padding: 0 0 0 0;\n",
              "      width: 32px;\n",
              "    }\n",
              "\n",
              "    .colab-df-convert:hover {\n",
              "      background-color: #E2EBFA;\n",
              "      box-shadow: 0px 1px 2px rgba(60, 64, 67, 0.3), 0px 1px 3px 1px rgba(60, 64, 67, 0.15);\n",
              "      fill: #174EA6;\n",
              "    }\n",
              "\n",
              "    .colab-df-buttons div {\n",
              "      margin-bottom: 4px;\n",
              "    }\n",
              "\n",
              "    [theme=dark] .colab-df-convert {\n",
              "      background-color: #3B4455;\n",
              "      fill: #D2E3FC;\n",
              "    }\n",
              "\n",
              "    [theme=dark] .colab-df-convert:hover {\n",
              "      background-color: #434B5C;\n",
              "      box-shadow: 0px 1px 3px 1px rgba(0, 0, 0, 0.15);\n",
              "      filter: drop-shadow(0px 1px 2px rgba(0, 0, 0, 0.3));\n",
              "      fill: #FFFFFF;\n",
              "    }\n",
              "  </style>\n",
              "\n",
              "    <script>\n",
              "      const buttonEl =\n",
              "        document.querySelector('#df-8f9bb147-3502-49b4-9543-26cee3da2c36 button.colab-df-convert');\n",
              "      buttonEl.style.display =\n",
              "        google.colab.kernel.accessAllowed ? 'block' : 'none';\n",
              "\n",
              "      async function convertToInteractive(key) {\n",
              "        const element = document.querySelector('#df-8f9bb147-3502-49b4-9543-26cee3da2c36');\n",
              "        const dataTable =\n",
              "          await google.colab.kernel.invokeFunction('convertToInteractive',\n",
              "                                                    [key], {});\n",
              "        if (!dataTable) return;\n",
              "\n",
              "        const docLinkHtml = 'Like what you see? Visit the ' +\n",
              "          '<a target=\"_blank\" href=https://colab.research.google.com/notebooks/data_table.ipynb>data table notebook</a>'\n",
              "          + ' to learn more about interactive tables.';\n",
              "        element.innerHTML = '';\n",
              "        dataTable['output_type'] = 'display_data';\n",
              "        await google.colab.output.renderOutput(dataTable, element);\n",
              "        const docLink = document.createElement('div');\n",
              "        docLink.innerHTML = docLinkHtml;\n",
              "        element.appendChild(docLink);\n",
              "      }\n",
              "    </script>\n",
              "  </div>\n",
              "\n",
              "\n",
              "<div id=\"df-1b890c0f-e0d3-4d8e-8f3c-099b3b190912\">\n",
              "  <button class=\"colab-df-quickchart\" onclick=\"quickchart('df-1b890c0f-e0d3-4d8e-8f3c-099b3b190912')\"\n",
              "            title=\"Suggest charts\"\n",
              "            style=\"display:none;\">\n",
              "\n",
              "<svg xmlns=\"http://www.w3.org/2000/svg\" height=\"24px\"viewBox=\"0 0 24 24\"\n",
              "     width=\"24px\">\n",
              "    <g>\n",
              "        <path d=\"M19 3H5c-1.1 0-2 .9-2 2v14c0 1.1.9 2 2 2h14c1.1 0 2-.9 2-2V5c0-1.1-.9-2-2-2zM9 17H7v-7h2v7zm4 0h-2V7h2v10zm4 0h-2v-4h2v4z\"/>\n",
              "    </g>\n",
              "</svg>\n",
              "  </button>\n",
              "\n",
              "<style>\n",
              "  .colab-df-quickchart {\n",
              "      --bg-color: #E8F0FE;\n",
              "      --fill-color: #1967D2;\n",
              "      --hover-bg-color: #E2EBFA;\n",
              "      --hover-fill-color: #174EA6;\n",
              "      --disabled-fill-color: #AAA;\n",
              "      --disabled-bg-color: #DDD;\n",
              "  }\n",
              "\n",
              "  [theme=dark] .colab-df-quickchart {\n",
              "      --bg-color: #3B4455;\n",
              "      --fill-color: #D2E3FC;\n",
              "      --hover-bg-color: #434B5C;\n",
              "      --hover-fill-color: #FFFFFF;\n",
              "      --disabled-bg-color: #3B4455;\n",
              "      --disabled-fill-color: #666;\n",
              "  }\n",
              "\n",
              "  .colab-df-quickchart {\n",
              "    background-color: var(--bg-color);\n",
              "    border: none;\n",
              "    border-radius: 50%;\n",
              "    cursor: pointer;\n",
              "    display: none;\n",
              "    fill: var(--fill-color);\n",
              "    height: 32px;\n",
              "    padding: 0;\n",
              "    width: 32px;\n",
              "  }\n",
              "\n",
              "  .colab-df-quickchart:hover {\n",
              "    background-color: var(--hover-bg-color);\n",
              "    box-shadow: 0 1px 2px rgba(60, 64, 67, 0.3), 0 1px 3px 1px rgba(60, 64, 67, 0.15);\n",
              "    fill: var(--button-hover-fill-color);\n",
              "  }\n",
              "\n",
              "  .colab-df-quickchart-complete:disabled,\n",
              "  .colab-df-quickchart-complete:disabled:hover {\n",
              "    background-color: var(--disabled-bg-color);\n",
              "    fill: var(--disabled-fill-color);\n",
              "    box-shadow: none;\n",
              "  }\n",
              "\n",
              "  .colab-df-spinner {\n",
              "    border: 2px solid var(--fill-color);\n",
              "    border-color: transparent;\n",
              "    border-bottom-color: var(--fill-color);\n",
              "    animation:\n",
              "      spin 1s steps(1) infinite;\n",
              "  }\n",
              "\n",
              "  @keyframes spin {\n",
              "    0% {\n",
              "      border-color: transparent;\n",
              "      border-bottom-color: var(--fill-color);\n",
              "      border-left-color: var(--fill-color);\n",
              "    }\n",
              "    20% {\n",
              "      border-color: transparent;\n",
              "      border-left-color: var(--fill-color);\n",
              "      border-top-color: var(--fill-color);\n",
              "    }\n",
              "    30% {\n",
              "      border-color: transparent;\n",
              "      border-left-color: var(--fill-color);\n",
              "      border-top-color: var(--fill-color);\n",
              "      border-right-color: var(--fill-color);\n",
              "    }\n",
              "    40% {\n",
              "      border-color: transparent;\n",
              "      border-right-color: var(--fill-color);\n",
              "      border-top-color: var(--fill-color);\n",
              "    }\n",
              "    60% {\n",
              "      border-color: transparent;\n",
              "      border-right-color: var(--fill-color);\n",
              "    }\n",
              "    80% {\n",
              "      border-color: transparent;\n",
              "      border-right-color: var(--fill-color);\n",
              "      border-bottom-color: var(--fill-color);\n",
              "    }\n",
              "    90% {\n",
              "      border-color: transparent;\n",
              "      border-bottom-color: var(--fill-color);\n",
              "    }\n",
              "  }\n",
              "</style>\n",
              "\n",
              "  <script>\n",
              "    async function quickchart(key) {\n",
              "      const quickchartButtonEl =\n",
              "        document.querySelector('#' + key + ' button');\n",
              "      quickchartButtonEl.disabled = true;  // To prevent multiple clicks.\n",
              "      quickchartButtonEl.classList.add('colab-df-spinner');\n",
              "      try {\n",
              "        const charts = await google.colab.kernel.invokeFunction(\n",
              "            'suggestCharts', [key], {});\n",
              "      } catch (error) {\n",
              "        console.error('Error during call to suggestCharts:', error);\n",
              "      }\n",
              "      quickchartButtonEl.classList.remove('colab-df-spinner');\n",
              "      quickchartButtonEl.classList.add('colab-df-quickchart-complete');\n",
              "    }\n",
              "    (() => {\n",
              "      let quickchartButtonEl =\n",
              "        document.querySelector('#df-1b890c0f-e0d3-4d8e-8f3c-099b3b190912 button');\n",
              "      quickchartButtonEl.style.display =\n",
              "        google.colab.kernel.accessAllowed ? 'block' : 'none';\n",
              "    })();\n",
              "  </script>\n",
              "</div>\n",
              "\n",
              "    </div>\n",
              "  </div>\n"
            ],
            "text/plain": [
              "                                            Dialogue Character  \\\n",
              "0  oh god great smart brainy bright clever love t...      joey   \n",
              "1  listen sure dad care probably think funny tell...    monica   \n",
              "2                well could try go stuff put shoebox    george   \n",
              "3                 yes verbal contract take word lose    kramer   \n",
              "4       um straighten shower curtain get mildew nice    monica   \n",
              "\n",
              "                                             Episode      Show  \\\n",
              "0  Season-10 Episode-05-The One Where Rachel's Si...   Friends   \n",
              "1  Season-07 Episode-03-The One With Phoebe’s Coo...   Friends   \n",
              "2                                             S09E16  Seinfeld   \n",
              "3                                             S07E13  Seinfeld   \n",
              "4  Season-02 Episode-18-The One Where Dr. Remore ...   Friends   \n",
              "\n",
              "   Dialogue_length  \n",
              "0               30  \n",
              "1               20  \n",
              "2               18  \n",
              "3               20  \n",
              "4               17  "
            ]
          },
          "execution_count": 73,
          "metadata": {},
          "output_type": "execute_result"
        }
      ],
      "source": [
        "test_df.head()"
      ]
    },
    {
      "cell_type": "markdown",
      "metadata": {
        "id": "dICK1Pc4godw"
      },
      "source": [
        "### Deep Learning model prediction"
      ]
    },
    {
      "cell_type": "code",
      "execution_count": 74,
      "metadata": {
        "id": "1X00ExFrILYR"
      },
      "outputs": [],
      "source": [
        "x_test=test_df['Dialogue']\n",
        "y_test=test_df[\"Show\"]"
      ]
    },
    {
      "cell_type": "code",
      "execution_count": 75,
      "metadata": {
        "id": "YT7uZfZCIKLA"
      },
      "outputs": [],
      "source": [
        "x_test_dl = token.texts_to_sequences(x_test)\n",
        "x_test_dl = sequence.pad_sequences(x_test_dl, maxlen=MAX_WORDS)\n"
      ]
    },
    {
      "cell_type": "code",
      "execution_count": 77,
      "metadata": {
        "colab": {
          "base_uri": "https://localhost:8080/"
        },
        "id": "lcoP7G3gIyaw",
        "outputId": "543c0ca4-bfe5-4582-8e04-2841b2876b17"
      },
      "outputs": [
        {
          "name": "stdout",
          "output_type": "stream",
          "text": [
            "133/133 [==============================] - 1s 6ms/step\n"
          ]
        }
      ],
      "source": [
        "predictions = model.predict(x_test_dl)"
      ]
    },
    {
      "cell_type": "code",
      "execution_count": 78,
      "metadata": {
        "id": "kDYxkLNmI4XP"
      },
      "outputs": [],
      "source": [
        "# Convert float predictions to 1s and 0s based on the threshold\n",
        "binary_predictions = (predictions > 0.5).astype(int)"
      ]
    },
    {
      "cell_type": "code",
      "execution_count": 79,
      "metadata": {
        "id": "fViy4GEfNCA8"
      },
      "outputs": [],
      "source": [
        "binary_predictions_text = np.where(binary_predictions == 0, 'Friends', 'Seinfeld')"
      ]
    },
    {
      "cell_type": "code",
      "execution_count": 113,
      "metadata": {
        "id": "UpzUOT0wOYur"
      },
      "outputs": [],
      "source": [
        "accuracy = accuracy_score(binary_predictions_text.ravel(), y_test.ravel())"
      ]
    },
    {
      "cell_type": "code",
      "execution_count": 114,
      "metadata": {
        "colab": {
          "base_uri": "https://localhost:8080/"
        },
        "id": "e-2aKiTxPYHq",
        "outputId": "eebb41d9-c392-48ae-df9b-e7f894a7eac7"
      },
      "outputs": [
        {
          "name": "stdout",
          "output_type": "stream",
          "text": [
            "accuracy:0.8082449941107185\n"
          ]
        }
      ],
      "source": [
        "print(f'accuracy:{accuracy}')"
      ]
    },
    {
      "cell_type": "markdown",
      "metadata": {
        "id": "DGomYShJNKWD"
      },
      "source": [
        "## Section 2\n",
        "Explore your results. Reload the test set, and filter it by different characters. e.g. report the accuracy score only for Jerry lines, Rachel lines, etc. You should repeat this process for each character (10 overall). Plot and visualize your results, and see if your model is better at correctly classifying Seinfeld vs. Friends lines for specific characters."
      ]
    },
    {
      "cell_type": "code",
      "execution_count": 128,
      "metadata": {
        "colab": {
          "base_uri": "https://localhost:8080/"
        },
        "id": "pP_MMV7WNJ2U",
        "outputId": "11994a6f-f024-4359-968d-4265b87871fc"
      },
      "outputs": [
        {
          "name": "stdout",
          "output_type": "stream",
          "text": [
            "15/15 [==============================] - 0s 4ms/step\n",
            "12/12 [==============================] - 0s 3ms/step\n",
            "15/15 [==============================] - 0s 3ms/step\n",
            "10/10 [==============================] - 0s 2ms/step\n",
            "15/15 [==============================] - 0s 2ms/step\n",
            "15/15 [==============================] - 0s 3ms/step\n",
            "13/13 [==============================] - 0s 2ms/step\n",
            "19/19 [==============================] - 0s 2ms/step\n",
            "13/13 [==============================] - 0s 2ms/step\n",
            "10/10 [==============================] - 0s 2ms/step\n"
          ]
        }
      ],
      "source": [
        "import matplotlib.pyplot as plt\n",
        "import seaborn as sns\n",
        "from sklearn.metrics import accuracy_score, classification_report\n",
        "\n",
        "# Assuming you have already trained and evaluated your model on the test set\n",
        "# ...\n",
        "\n",
        "# Reload the test set\n",
        "x_test = test_df['Dialogue']\n",
        "y_test = test_df['Show']\n",
        "y_test_boolean_label = np.where(y_test=='Friends', 0, 1).ravel()\n",
        "\n",
        "characters = test_df['Character'].unique()\n",
        "\n",
        "# Create a dictionary to store accuracy scores for each character\n",
        "accuracy_dict = {}\n",
        "\n",
        "# Filter and evaluate accuracy for each character\n",
        "for character in characters:\n",
        "    # Filter test set for the specific character\n",
        "    character_x = x_test_dl[test_df['Character'] == character]\n",
        "    y_test_boolean_label_character = y_test_boolean_label[test_df['Character'] == character]\n",
        "\n",
        "    # Make predictions on the filtered test set\n",
        "    character_predictions = model.predict(character_x).ravel()\n",
        "    binary_predictions = (character_predictions > 0.5).astype(int)\n",
        "    # Evaluate accuracy for the specific character\n",
        "    # print(y_test_boolean_label_character)\n",
        "    # print(character_predictions)\n",
        "    character_accuracy = accuracy_score(y_test_boolean_label_character, binary_predictions)\n",
        "\n",
        "    # Store the accuracy in the dictionary\n",
        "    accuracy_dict[character] = character_accuracy\n",
        "\n"
      ]
    },
    {
      "cell_type": "code",
      "execution_count": 129,
      "metadata": {
        "colab": {
          "base_uri": "https://localhost:8080/",
          "height": 564
        },
        "id": "VuNq8pzJOHr9",
        "outputId": "5f42c5d2-640f-4ad9-81f8-b4ff2462bd94"
      },
      "outputs": [
        {
          "data": {
            "image/png": "[encoded data removed]",
            "text/plain": [
              "<Figure size 1000x600 with 1 Axes>"
            ]
          },
          "metadata": {},
          "output_type": "display_data"
        }
      ],
      "source": [
        "import matplotlib.pyplot as plt\n",
        "import seaborn as sns\n",
        "\n",
        "\n",
        "# Create a larger figure with specific dimensions\n",
        "plt.figure(figsize=(10, 6))  # Adjust dimensions as needed\n",
        "\n",
        "# Plot the data\n",
        "sns.barplot(x=list(accuracy_dict.keys()), y=list(accuracy_dict.values()))\n",
        "\n",
        "# Add titles and labels\n",
        "plt.title(\"Accuracy for Each Character\")\n",
        "plt.xlabel(\"Character\")\n",
        "plt.ylabel(\"Accuracy\")\n",
        "\n",
        "# Draw horizontal lines at intervals of 0.2\n",
        "for i in range(6):\n",
        "    plt.axhline(y=i * 0.2, color='gray', linestyle='--')\n",
        "\n",
        "# Show the plot\n",
        "plt.show()\n"
      ]
    },
    {
      "cell_type": "code",
      "execution_count": 138,
      "metadata": {
        "id": "VadwowmeSdSy"
      },
      "outputs": [],
      "source": [
        "import csv\n",
        "\n",
        "# Define the data\n",
        "data = {\n",
        "    'test set accuracy': accuracy,\n",
        "    'Your train set accuracy': train_accuracy,\n",
        "    'Number of trainable parameters':  np.sum([np.prod(w.shape) for w in model.trainable_weights]),\n",
        "    'Number of layers': len(model.layers),\n",
        "    'Regularization methods': 'dropout, learning rate control',\n",
        "    'Number of epochs': 15,\n",
        "    'Choice of loss function': 'binary_crossentropy',\n",
        "    'Choice of optimizer': 'Adam',\n",
        "    'Embedding dimension (if used)': 25 }\n",
        "\n",
        "with open('exercise3.csv', 'w', newline='') as csvfile:\n",
        "    fieldnames = data.keys()\n",
        "    writer = csv.DictWriter(csvfile, fieldnames=fieldnames)\n",
        "\n",
        "    writer.writeheader()\n",
        "    writer.writerow(data)\n"
      ]
    }
  ],
  "metadata": {
    "accelerator": "GPU",
    "colab": {
      "gpuType": "T4",
      "provenance": [],
      "toc_visible": true
    },
    "kernelspec": {
      "display_name": "Python 3",
      "name": "python3"
    },
    "language_info": {
      "name": "python"
    },
    "widgets": {
      "application/vnd.jupyter.widget-state+json": {
        "009aa82285a7404ebef23a638b4bff19": {
          "model_module": "@jupyter-widgets/base",
          "model_module_version": "1.2.0",
          "model_name": "LayoutModel",
          "state": {
            "_model_module": "@jupyter-widgets/base",
            "_model_module_version": "1.2.0",
            "_model_name": "LayoutModel",
            "_view_count": null,
            "_view_module": "@jupyter-widgets/base",
            "_view_module_version": "1.2.0",
            "_view_name": "LayoutView",
            "align_content": null,
            "align_items": null,
            "align_self": null,
            "border": null,
            "bottom": null,
            "display": null,
            "flex": null,
            "flex_flow": null,
            "grid_area": null,
            "grid_auto_columns": null,
            "grid_auto_flow": null,
            "grid_auto_rows": null,
            "grid_column": null,
            "grid_gap": null,
            "grid_row": null,
            "grid_template_areas": null,
            "grid_template_columns": null,
            "grid_template_rows": null,
            "height": null,
            "justify_content": null,
            "justify_items": null,
            "left": null,
            "margin": null,
            "max_height": null,
            "max_width": null,
            "min_height": null,
            "min_width": null,
            "object_fit": null,
            "object_position": null,
            "order": null,
            "overflow": null,
            "overflow_x": null,
            "overflow_y": null,
            "padding": null,
            "right": null,
            "top": null,
            "visibility": null,
            "width": null
          }
        },
        "04c7ae5cceba4481932a4f19992a4d3d": {
          "model_module": "@jupyter-widgets/controls",
          "model_module_version": "1.5.0",
          "model_name": "HBoxModel",
          "state": {
            "_dom_classes": [],
            "_model_module": "@jupyter-widgets/controls",
            "_model_module_version": "1.5.0",
            "_model_name": "HBoxModel",
            "_view_count": null,
            "_view_module": "@jupyter-widgets/controls",
            "_view_module_version": "1.5.0",
            "_view_name": "HBoxView",
            "box_style": "",
            "children": [
              "IPY_MODEL_75269feb93124685aa5ddd07cdfd0102",
              "IPY_MODEL_65f4ff7b0be5406284636a6612ea839b",
              "IPY_MODEL_3a9c0c9fa36248bd9b7d9636eb433467"
            ],
            "layout": "IPY_MODEL_bec41e50275f436aaee64f5786d4a903"
          }
        },
        "06180251f6d042baae7c392d7835a178": {
          "model_module": "@jupyter-widgets/controls",
          "model_module_version": "1.5.0",
          "model_name": "FloatProgressModel",
          "state": {
            "_dom_classes": [],
            "_model_module": "@jupyter-widgets/controls",
            "_model_module_version": "1.5.0",
            "_model_name": "FloatProgressModel",
            "_view_count": null,
            "_view_module": "@jupyter-widgets/controls",
            "_view_module_version": "1.5.0",
            "_view_name": "ProgressView",
            "bar_style": "success",
            "description": "",
            "description_tooltip": null,
            "layout": "IPY_MODEL_14e7dc9d9ae34eabb4810fe6d7552251",
            "max": 70405,
            "min": 0,
            "orientation": "horizontal",
            "style": "IPY_MODEL_7431c88dd48b45b9bb07e7e0af05ea8d",
            "value": 70405
          }
        },
        "10138481a06f46e5af005b5366727c02": {
          "model_module": "@jupyter-widgets/controls",
          "model_module_version": "1.5.0",
          "model_name": "DescriptionStyleModel",
          "state": {
            "_model_module": "@jupyter-widgets/controls",
            "_model_module_version": "1.5.0",
            "_model_name": "DescriptionStyleModel",
            "_view_count": null,
            "_view_module": "@jupyter-widgets/base",
            "_view_module_version": "1.2.0",
            "_view_name": "StyleView",
            "description_width": ""
          }
        },
        "10820f5ca8cc4a30a6fd2740307b8124": {
          "model_module": "@jupyter-widgets/controls",
          "model_module_version": "1.5.0",
          "model_name": "DescriptionStyleModel",
          "state": {
            "_model_module": "@jupyter-widgets/controls",
            "_model_module_version": "1.5.0",
            "_model_name": "DescriptionStyleModel",
            "_view_count": null,
            "_view_module": "@jupyter-widgets/base",
            "_view_module_version": "1.2.0",
            "_view_name": "StyleView",
            "description_width": ""
          }
        },
        "14e7dc9d9ae34eabb4810fe6d7552251": {
          "model_module": "@jupyter-widgets/base",
          "model_module_version": "1.2.0",
          "model_name": "LayoutModel",
          "state": {
            "_model_module": "@jupyter-widgets/base",
            "_model_module_version": "1.2.0",
            "_model_name": "LayoutModel",
            "_view_count": null,
            "_view_module": "@jupyter-widgets/base",
            "_view_module_version": "1.2.0",
            "_view_name": "LayoutView",
            "align_content": null,
            "align_items": null,
            "align_self": null,
            "border": null,
            "bottom": null,
            "display": null,
            "flex": null,
            "flex_flow": null,
            "grid_area": null,
            "grid_auto_columns": null,
            "grid_auto_flow": null,
            "grid_auto_rows": null,
            "grid_column": null,
            "grid_gap": null,
            "grid_row": null,
            "grid_template_areas": null,
            "grid_template_columns": null,
            "grid_template_rows": null,
            "height": null,
            "justify_content": null,
            "justify_items": null,
            "left": null,
            "margin": null,
            "max_height": null,
            "max_width": null,
            "min_height": null,
            "min_width": null,
            "object_fit": null,
            "object_position": null,
            "order": null,
            "overflow": null,
            "overflow_x": null,
            "overflow_y": null,
            "padding": null,
            "right": null,
            "top": null,
            "visibility": null,
            "width": null
          }
        },
        "1b513f9b96b3476e8031702cfb4ea330": {
          "model_module": "@jupyter-widgets/controls",
          "model_module_version": "1.5.0",
          "model_name": "HBoxModel",
          "state": {
            "_dom_classes": [],
            "_model_module": "@jupyter-widgets/controls",
            "_model_module_version": "1.5.0",
            "_model_name": "HBoxModel",
            "_view_count": null,
            "_view_module": "@jupyter-widgets/controls",
            "_view_module_version": "1.5.0",
            "_view_name": "HBoxView",
            "box_style": "",
            "children": [
              "IPY_MODEL_a1f0f3a6b8434bbc9cb3e4d143861b23",
              "IPY_MODEL_06180251f6d042baae7c392d7835a178",
              "IPY_MODEL_5f02b84cfe9d4361ad23bf9a3e44a86f"
            ],
            "layout": "IPY_MODEL_9b4434f1503743f1b8e07668a47e07ac"
          }
        },
        "1f9aa84b1ac240799db44b6694468c0f": {
          "model_module": "@jupyter-widgets/base",
          "model_module_version": "1.2.0",
          "model_name": "LayoutModel",
          "state": {
            "_model_module": "@jupyter-widgets/base",
            "_model_module_version": "1.2.0",
            "_model_name": "LayoutModel",
            "_view_count": null,
            "_view_module": "@jupyter-widgets/base",
            "_view_module_version": "1.2.0",
            "_view_name": "LayoutView",
            "align_content": null,
            "align_items": null,
            "align_self": null,
            "border": null,
            "bottom": null,
            "display": null,
            "flex": null,
            "flex_flow": null,
            "grid_area": null,
            "grid_auto_columns": null,
            "grid_auto_flow": null,
            "grid_auto_rows": null,
            "grid_column": null,
            "grid_gap": null,
            "grid_row": null,
            "grid_template_areas": null,
            "grid_template_columns": null,
            "grid_template_rows": null,
            "height": null,
            "justify_content": null,
            "justify_items": null,
            "left": null,
            "margin": null,
            "max_height": null,
            "max_width": null,
            "min_height": null,
            "min_width": null,
            "object_fit": null,
            "object_position": null,
            "order": null,
            "overflow": null,
            "overflow_x": null,
            "overflow_y": null,
            "padding": null,
            "right": null,
            "top": null,
            "visibility": null,
            "width": null
          }
        },
        "2169d312b0f54bcd962ed9bfb19d6116": {
          "model_module": "@jupyter-widgets/base",
          "model_module_version": "1.2.0",
          "model_name": "LayoutModel",
          "state": {
            "_model_module": "@jupyter-widgets/base",
            "_model_module_version": "1.2.0",
            "_model_name": "LayoutModel",
            "_view_count": null,
            "_view_module": "@jupyter-widgets/base",
            "_view_module_version": "1.2.0",
            "_view_name": "LayoutView",
            "align_content": null,
            "align_items": null,
            "align_self": null,
            "border": null,
            "bottom": null,
            "display": null,
            "flex": null,
            "flex_flow": null,
            "grid_area": null,
            "grid_auto_columns": null,
            "grid_auto_flow": null,
            "grid_auto_rows": null,
            "grid_column": null,
            "grid_gap": null,
            "grid_row": null,
            "grid_template_areas": null,
            "grid_template_columns": null,
            "grid_template_rows": null,
            "height": null,
            "justify_content": null,
            "justify_items": null,
            "left": null,
            "margin": null,
            "max_height": null,
            "max_width": null,
            "min_height": null,
            "min_width": null,
            "object_fit": null,
            "object_position": null,
            "order": null,
            "overflow": null,
            "overflow_x": null,
            "overflow_y": null,
            "padding": null,
            "right": null,
            "top": null,
            "visibility": null,
            "width": null
          }
        },
        "2da733e869ab4a5b84677522539526fb": {
          "model_module": "@jupyter-widgets/base",
          "model_module_version": "1.2.0",
          "model_name": "LayoutModel",
          "state": {
            "_model_module": "@jupyter-widgets/base",
            "_model_module_version": "1.2.0",
            "_model_name": "LayoutModel",
            "_view_count": null,
            "_view_module": "@jupyter-widgets/base",
            "_view_module_version": "1.2.0",
            "_view_name": "LayoutView",
            "align_content": null,
            "align_items": null,
            "align_self": null,
            "border": null,
            "bottom": null,
            "display": null,
            "flex": null,
            "flex_flow": null,
            "grid_area": null,
            "grid_auto_columns": null,
            "grid_auto_flow": null,
            "grid_auto_rows": null,
            "grid_column": null,
            "grid_gap": null,
            "grid_row": null,
            "grid_template_areas": null,
            "grid_template_columns": null,
            "grid_template_rows": null,
            "height": null,
            "justify_content": null,
            "justify_items": null,
            "left": null,
            "margin": null,
            "max_height": null,
            "max_width": null,
            "min_height": null,
            "min_width": null,
            "object_fit": null,
            "object_position": null,
            "order": null,
            "overflow": null,
            "overflow_x": null,
            "overflow_y": null,
            "padding": null,
            "right": null,
            "top": null,
            "visibility": null,
            "width": null
          }
        },
        "2e5951c271284b149c07e3acd283ba7d": {
          "model_module": "@jupyter-widgets/base",
          "model_module_version": "1.2.0",
          "model_name": "LayoutModel",
          "state": {
            "_model_module": "@jupyter-widgets/base",
            "_model_module_version": "1.2.0",
            "_model_name": "LayoutModel",
            "_view_count": null,
            "_view_module": "@jupyter-widgets/base",
            "_view_module_version": "1.2.0",
            "_view_name": "LayoutView",
            "align_content": null,
            "align_items": null,
            "align_self": null,
            "border": null,
            "bottom": null,
            "display": null,
            "flex": null,
            "flex_flow": null,
            "grid_area": null,
            "grid_auto_columns": null,
            "grid_auto_flow": null,
            "grid_auto_rows": null,
            "grid_column": null,
            "grid_gap": null,
            "grid_row": null,
            "grid_template_areas": null,
            "grid_template_columns": null,
            "grid_template_rows": null,
            "height": null,
            "justify_content": null,
            "justify_items": null,
            "left": null,
            "margin": null,
            "max_height": null,
            "max_width": null,
            "min_height": null,
            "min_width": null,
            "object_fit": null,
            "object_position": null,
            "order": null,
            "overflow": null,
            "overflow_x": null,
            "overflow_y": null,
            "padding": null,
            "right": null,
            "top": null,
            "visibility": null,
            "width": null
          }
        },
        "3a9c0c9fa36248bd9b7d9636eb433467": {
          "model_module": "@jupyter-widgets/controls",
          "model_module_version": "1.5.0",
          "model_name": "HTMLModel",
          "state": {
            "_dom_classes": [],
            "_model_module": "@jupyter-widgets/controls",
            "_model_module_version": "1.5.0",
            "_model_name": "HTMLModel",
            "_view_count": null,
            "_view_module": "@jupyter-widgets/controls",
            "_view_module_version": "1.5.0",
            "_view_name": "HTMLView",
            "description": "",
            "description_tooltip": null,
            "layout": "IPY_MODEL_b52356f149fd4505842207423e656cbf",
            "placeholder": "​",
            "style": "IPY_MODEL_c31d49a90ad94260ab8e928baf98a92f",
            "value": " 4245/4245 [00:01&lt;00:00, 3413.52it/s]"
          }
        },
        "469989f6ef43417489770f780524d562": {
          "model_module": "@jupyter-widgets/base",
          "model_module_version": "1.2.0",
          "model_name": "LayoutModel",
          "state": {
            "_model_module": "@jupyter-widgets/base",
            "_model_module_version": "1.2.0",
            "_model_name": "LayoutModel",
            "_view_count": null,
            "_view_module": "@jupyter-widgets/base",
            "_view_module_version": "1.2.0",
            "_view_name": "LayoutView",
            "align_content": null,
            "align_items": null,
            "align_self": null,
            "border": null,
            "bottom": null,
            "display": null,
            "flex": null,
            "flex_flow": null,
            "grid_area": null,
            "grid_auto_columns": null,
            "grid_auto_flow": null,
            "grid_auto_rows": null,
            "grid_column": null,
            "grid_gap": null,
            "grid_row": null,
            "grid_template_areas": null,
            "grid_template_columns": null,
            "grid_template_rows": null,
            "height": null,
            "justify_content": null,
            "justify_items": null,
            "left": null,
            "margin": null,
            "max_height": null,
            "max_width": null,
            "min_height": null,
            "min_width": null,
            "object_fit": null,
            "object_position": null,
            "order": null,
            "overflow": null,
            "overflow_x": null,
            "overflow_y": null,
            "padding": null,
            "right": null,
            "top": null,
            "visibility": null,
            "width": null
          }
        },
        "48e535f9978c4cd08e216e539a741f72": {
          "model_module": "@jupyter-widgets/controls",
          "model_module_version": "1.5.0",
          "model_name": "DescriptionStyleModel",
          "state": {
            "_model_module": "@jupyter-widgets/controls",
            "_model_module_version": "1.5.0",
            "_model_name": "DescriptionStyleModel",
            "_view_count": null,
            "_view_module": "@jupyter-widgets/base",
            "_view_module_version": "1.2.0",
            "_view_name": "StyleView",
            "description_width": ""
          }
        },
        "4c395162359146519c894c2f413740f5": {
          "model_module": "@jupyter-widgets/controls",
          "model_module_version": "1.5.0",
          "model_name": "HTMLModel",
          "state": {
            "_dom_classes": [],
            "_model_module": "@jupyter-widgets/controls",
            "_model_module_version": "1.5.0",
            "_model_name": "HTMLModel",
            "_view_count": null,
            "_view_module": "@jupyter-widgets/controls",
            "_view_module_version": "1.5.0",
            "_view_name": "HTMLView",
            "description": "",
            "description_tooltip": null,
            "layout": "IPY_MODEL_2169d312b0f54bcd962ed9bfb19d6116",
            "placeholder": "​",
            "style": "IPY_MODEL_768b452179664016b8c5e0093e60e54b",
            "value": " 5/5 [00:32&lt;00:00,  4.58s/it]"
          }
        },
        "50beba2f26d449d1ac2465c374e12a0b": {
          "model_module": "@jupyter-widgets/base",
          "model_module_version": "1.2.0",
          "model_name": "LayoutModel",
          "state": {
            "_model_module": "@jupyter-widgets/base",
            "_model_module_version": "1.2.0",
            "_model_name": "LayoutModel",
            "_view_count": null,
            "_view_module": "@jupyter-widgets/base",
            "_view_module_version": "1.2.0",
            "_view_name": "LayoutView",
            "align_content": null,
            "align_items": null,
            "align_self": null,
            "border": null,
            "bottom": null,
            "display": null,
            "flex": null,
            "flex_flow": null,
            "grid_area": null,
            "grid_auto_columns": null,
            "grid_auto_flow": null,
            "grid_auto_rows": null,
            "grid_column": null,
            "grid_gap": null,
            "grid_row": null,
            "grid_template_areas": null,
            "grid_template_columns": null,
            "grid_template_rows": null,
            "height": null,
            "justify_content": null,
            "justify_items": null,
            "left": null,
            "margin": null,
            "max_height": null,
            "max_width": null,
            "min_height": null,
            "min_width": null,
            "object_fit": null,
            "object_position": null,
            "order": null,
            "overflow": null,
            "overflow_x": null,
            "overflow_y": null,
            "padding": null,
            "right": null,
            "top": null,
            "visibility": null,
            "width": null
          }
        },
        "5f02b84cfe9d4361ad23bf9a3e44a86f": {
          "model_module": "@jupyter-widgets/controls",
          "model_module_version": "1.5.0",
          "model_name": "HTMLModel",
          "state": {
            "_dom_classes": [],
            "_model_module": "@jupyter-widgets/controls",
            "_model_module_version": "1.5.0",
            "_model_name": "HTMLModel",
            "_view_count": null,
            "_view_module": "@jupyter-widgets/controls",
            "_view_module_version": "1.5.0",
            "_view_name": "HTMLView",
            "description": "",
            "description_tooltip": null,
            "layout": "IPY_MODEL_69cafee4d8034c95b18dc471230f59ea",
            "placeholder": "​",
            "style": "IPY_MODEL_9b40ecdc6e4f42279a8794fcbb66407f",
            "value": " 70405/70405 [00:06&lt;00:00, 12324.32it/s]"
          }
        },
        "6415fa61af3345ba969d5e7c126f51cf": {
          "model_module": "@jupyter-widgets/controls",
          "model_module_version": "1.5.0",
          "model_name": "HTMLModel",
          "state": {
            "_dom_classes": [],
            "_model_module": "@jupyter-widgets/controls",
            "_model_module_version": "1.5.0",
            "_model_name": "HTMLModel",
            "_view_count": null,
            "_view_module": "@jupyter-widgets/controls",
            "_view_module_version": "1.5.0",
            "_view_name": "HTMLView",
            "description": "",
            "description_tooltip": null,
            "layout": "IPY_MODEL_e98e784106a9425987a49521dbf85e73",
            "placeholder": "​",
            "style": "IPY_MODEL_48e535f9978c4cd08e216e539a741f72",
            "value": " 71/71 [02:06&lt;00:00,  1.63s/it]"
          }
        },
        "65f4ff7b0be5406284636a6612ea839b": {
          "model_module": "@jupyter-widgets/controls",
          "model_module_version": "1.5.0",
          "model_name": "FloatProgressModel",
          "state": {
            "_dom_classes": [],
            "_model_module": "@jupyter-widgets/controls",
            "_model_module_version": "1.5.0",
            "_model_name": "FloatProgressModel",
            "_view_count": null,
            "_view_module": "@jupyter-widgets/controls",
            "_view_module_version": "1.5.0",
            "_view_name": "ProgressView",
            "bar_style": "success",
            "description": "",
            "description_tooltip": null,
            "layout": "IPY_MODEL_009aa82285a7404ebef23a638b4bff19",
            "max": 4245,
            "min": 0,
            "orientation": "horizontal",
            "style": "IPY_MODEL_b5d17dec2c674ff5a120a2869aa8a7c0",
            "value": 4245
          }
        },
        "66ed9eb52bfc4290975fc6c6f87120ad": {
          "model_module": "@jupyter-widgets/base",
          "model_module_version": "1.2.0",
          "model_name": "LayoutModel",
          "state": {
            "_model_module": "@jupyter-widgets/base",
            "_model_module_version": "1.2.0",
            "_model_name": "LayoutModel",
            "_view_count": null,
            "_view_module": "@jupyter-widgets/base",
            "_view_module_version": "1.2.0",
            "_view_name": "LayoutView",
            "align_content": null,
            "align_items": null,
            "align_self": null,
            "border": null,
            "bottom": null,
            "display": null,
            "flex": null,
            "flex_flow": null,
            "grid_area": null,
            "grid_auto_columns": null,
            "grid_auto_flow": null,
            "grid_auto_rows": null,
            "grid_column": null,
            "grid_gap": null,
            "grid_row": null,
            "grid_template_areas": null,
            "grid_template_columns": null,
            "grid_template_rows": null,
            "height": null,
            "justify_content": null,
            "justify_items": null,
            "left": null,
            "margin": null,
            "max_height": null,
            "max_width": null,
            "min_height": null,
            "min_width": null,
            "object_fit": null,
            "object_position": null,
            "order": null,
            "overflow": null,
            "overflow_x": null,
            "overflow_y": null,
            "padding": null,
            "right": null,
            "top": null,
            "visibility": null,
            "width": null
          }
        },
        "69cafee4d8034c95b18dc471230f59ea": {
          "model_module": "@jupyter-widgets/base",
          "model_module_version": "1.2.0",
          "model_name": "LayoutModel",
          "state": {
            "_model_module": "@jupyter-widgets/base",
            "_model_module_version": "1.2.0",
            "_model_name": "LayoutModel",
            "_view_count": null,
            "_view_module": "@jupyter-widgets/base",
            "_view_module_version": "1.2.0",
            "_view_name": "LayoutView",
            "align_content": null,
            "align_items": null,
            "align_self": null,
            "border": null,
            "bottom": null,
            "display": null,
            "flex": null,
            "flex_flow": null,
            "grid_area": null,
            "grid_auto_columns": null,
            "grid_auto_flow": null,
            "grid_auto_rows": null,
            "grid_column": null,
            "grid_gap": null,
            "grid_row": null,
            "grid_template_areas": null,
            "grid_template_columns": null,
            "grid_template_rows": null,
            "height": null,
            "justify_content": null,
            "justify_items": null,
            "left": null,
            "margin": null,
            "max_height": null,
            "max_width": null,
            "min_height": null,
            "min_width": null,
            "object_fit": null,
            "object_position": null,
            "order": null,
            "overflow": null,
            "overflow_x": null,
            "overflow_y": null,
            "padding": null,
            "right": null,
            "top": null,
            "visibility": null,
            "width": null
          }
        },
        "7431c88dd48b45b9bb07e7e0af05ea8d": {
          "model_module": "@jupyter-widgets/controls",
          "model_module_version": "1.5.0",
          "model_name": "ProgressStyleModel",
          "state": {
            "_model_module": "@jupyter-widgets/controls",
            "_model_module_version": "1.5.0",
            "_model_name": "ProgressStyleModel",
            "_view_count": null,
            "_view_module": "@jupyter-widgets/base",
            "_view_module_version": "1.2.0",
            "_view_name": "StyleView",
            "bar_color": null,
            "description_width": ""
          }
        },
        "75269feb93124685aa5ddd07cdfd0102": {
          "model_module": "@jupyter-widgets/controls",
          "model_module_version": "1.5.0",
          "model_name": "HTMLModel",
          "state": {
            "_dom_classes": [],
            "_model_module": "@jupyter-widgets/controls",
            "_model_module_version": "1.5.0",
            "_model_name": "HTMLModel",
            "_view_count": null,
            "_view_module": "@jupyter-widgets/controls",
            "_view_module_version": "1.5.0",
            "_view_name": "HTMLView",
            "description": "",
            "description_tooltip": null,
            "layout": "IPY_MODEL_2da733e869ab4a5b84677522539526fb",
            "placeholder": "​",
            "style": "IPY_MODEL_7b0ae917b0bd4a44810988ca34751d18",
            "value": "100%"
          }
        },
        "768b452179664016b8c5e0093e60e54b": {
          "model_module": "@jupyter-widgets/controls",
          "model_module_version": "1.5.0",
          "model_name": "DescriptionStyleModel",
          "state": {
            "_model_module": "@jupyter-widgets/controls",
            "_model_module_version": "1.5.0",
            "_model_name": "DescriptionStyleModel",
            "_view_count": null,
            "_view_module": "@jupyter-widgets/base",
            "_view_module_version": "1.2.0",
            "_view_name": "StyleView",
            "description_width": ""
          }
        },
        "7b0ae917b0bd4a44810988ca34751d18": {
          "model_module": "@jupyter-widgets/controls",
          "model_module_version": "1.5.0",
          "model_name": "DescriptionStyleModel",
          "state": {
            "_model_module": "@jupyter-widgets/controls",
            "_model_module_version": "1.5.0",
            "_model_name": "DescriptionStyleModel",
            "_view_count": null,
            "_view_module": "@jupyter-widgets/base",
            "_view_module_version": "1.2.0",
            "_view_name": "StyleView",
            "description_width": ""
          }
        },
        "830665c5d7804b279d6dad1937911632": {
          "model_module": "@jupyter-widgets/controls",
          "model_module_version": "1.5.0",
          "model_name": "ProgressStyleModel",
          "state": {
            "_model_module": "@jupyter-widgets/controls",
            "_model_module_version": "1.5.0",
            "_model_name": "ProgressStyleModel",
            "_view_count": null,
            "_view_module": "@jupyter-widgets/base",
            "_view_module_version": "1.2.0",
            "_view_name": "StyleView",
            "bar_color": null,
            "description_width": ""
          }
        },
        "919f2f9d7c274ef590b596b08d47212d": {
          "model_module": "@jupyter-widgets/controls",
          "model_module_version": "1.5.0",
          "model_name": "DescriptionStyleModel",
          "state": {
            "_model_module": "@jupyter-widgets/controls",
            "_model_module_version": "1.5.0",
            "_model_name": "DescriptionStyleModel",
            "_view_count": null,
            "_view_module": "@jupyter-widgets/base",
            "_view_module_version": "1.2.0",
            "_view_name": "StyleView",
            "description_width": ""
          }
        },
        "9b40ecdc6e4f42279a8794fcbb66407f": {
          "model_module": "@jupyter-widgets/controls",
          "model_module_version": "1.5.0",
          "model_name": "DescriptionStyleModel",
          "state": {
            "_model_module": "@jupyter-widgets/controls",
            "_model_module_version": "1.5.0",
            "_model_name": "DescriptionStyleModel",
            "_view_count": null,
            "_view_module": "@jupyter-widgets/base",
            "_view_module_version": "1.2.0",
            "_view_name": "StyleView",
            "description_width": ""
          }
        },
        "9b4434f1503743f1b8e07668a47e07ac": {
          "model_module": "@jupyter-widgets/base",
          "model_module_version": "1.2.0",
          "model_name": "LayoutModel",
          "state": {
            "_model_module": "@jupyter-widgets/base",
            "_model_module_version": "1.2.0",
            "_model_name": "LayoutModel",
            "_view_count": null,
            "_view_module": "@jupyter-widgets/base",
            "_view_module_version": "1.2.0",
            "_view_name": "LayoutView",
            "align_content": null,
            "align_items": null,
            "align_self": null,
            "border": null,
            "bottom": null,
            "display": null,
            "flex": null,
            "flex_flow": null,
            "grid_area": null,
            "grid_auto_columns": null,
            "grid_auto_flow": null,
            "grid_auto_rows": null,
            "grid_column": null,
            "grid_gap": null,
            "grid_row": null,
            "grid_template_areas": null,
            "grid_template_columns": null,
            "grid_template_rows": null,
            "height": null,
            "justify_content": null,
            "justify_items": null,
            "left": null,
            "margin": null,
            "max_height": null,
            "max_width": null,
            "min_height": null,
            "min_width": null,
            "object_fit": null,
            "object_position": null,
            "order": null,
            "overflow": null,
            "overflow_x": null,
            "overflow_y": null,
            "padding": null,
            "right": null,
            "top": null,
            "visibility": null,
            "width": null
          }
        },
        "a1f0f3a6b8434bbc9cb3e4d143861b23": {
          "model_module": "@jupyter-widgets/controls",
          "model_module_version": "1.5.0",
          "model_name": "HTMLModel",
          "state": {
            "_dom_classes": [],
            "_model_module": "@jupyter-widgets/controls",
            "_model_module_version": "1.5.0",
            "_model_name": "HTMLModel",
            "_view_count": null,
            "_view_module": "@jupyter-widgets/controls",
            "_view_module_version": "1.5.0",
            "_view_name": "HTMLView",
            "description": "",
            "description_tooltip": null,
            "layout": "IPY_MODEL_469989f6ef43417489770f780524d562",
            "placeholder": "​",
            "style": "IPY_MODEL_919f2f9d7c274ef590b596b08d47212d",
            "value": "100%"
          }
        },
        "a605474f48784c27996aa05b41482093": {
          "model_module": "@jupyter-widgets/controls",
          "model_module_version": "1.5.0",
          "model_name": "HTMLModel",
          "state": {
            "_dom_classes": [],
            "_model_module": "@jupyter-widgets/controls",
            "_model_module_version": "1.5.0",
            "_model_name": "HTMLModel",
            "_view_count": null,
            "_view_module": "@jupyter-widgets/controls",
            "_view_module_version": "1.5.0",
            "_view_name": "HTMLView",
            "description": "",
            "description_tooltip": null,
            "layout": "IPY_MODEL_2e5951c271284b149c07e3acd283ba7d",
            "placeholder": "​",
            "style": "IPY_MODEL_10138481a06f46e5af005b5366727c02",
            "value": "Lemmatizing: 100%"
          }
        },
        "ac31e90b29594807b8ce64f5169fa929": {
          "model_module": "@jupyter-widgets/controls",
          "model_module_version": "1.5.0",
          "model_name": "HBoxModel",
          "state": {
            "_dom_classes": [],
            "_model_module": "@jupyter-widgets/controls",
            "_model_module_version": "1.5.0",
            "_model_name": "HBoxModel",
            "_view_count": null,
            "_view_module": "@jupyter-widgets/controls",
            "_view_module_version": "1.5.0",
            "_view_name": "HBoxView",
            "box_style": "",
            "children": [
              "IPY_MODEL_e7ce0575ab314e549e94ec393bf503f0",
              "IPY_MODEL_b0324bc5c9814ff3801dc5d5c8914503",
              "IPY_MODEL_6415fa61af3345ba969d5e7c126f51cf"
            ],
            "layout": "IPY_MODEL_c1d0036ddb13444e895352dd7a6785ca"
          }
        },
        "b0324bc5c9814ff3801dc5d5c8914503": {
          "model_module": "@jupyter-widgets/controls",
          "model_module_version": "1.5.0",
          "model_name": "FloatProgressModel",
          "state": {
            "_dom_classes": [],
            "_model_module": "@jupyter-widgets/controls",
            "_model_module_version": "1.5.0",
            "_model_name": "FloatProgressModel",
            "_view_count": null,
            "_view_module": "@jupyter-widgets/controls",
            "_view_module_version": "1.5.0",
            "_view_name": "ProgressView",
            "bar_style": "success",
            "description": "",
            "description_tooltip": null,
            "layout": "IPY_MODEL_50beba2f26d449d1ac2465c374e12a0b",
            "max": 71,
            "min": 0,
            "orientation": "horizontal",
            "style": "IPY_MODEL_830665c5d7804b279d6dad1937911632",
            "value": 71
          }
        },
        "b52356f149fd4505842207423e656cbf": {
          "model_module": "@jupyter-widgets/base",
          "model_module_version": "1.2.0",
          "model_name": "LayoutModel",
          "state": {
            "_model_module": "@jupyter-widgets/base",
            "_model_module_version": "1.2.0",
            "_model_name": "LayoutModel",
            "_view_count": null,
            "_view_module": "@jupyter-widgets/base",
            "_view_module_version": "1.2.0",
            "_view_name": "LayoutView",
            "align_content": null,
            "align_items": null,
            "align_self": null,
            "border": null,
            "bottom": null,
            "display": null,
            "flex": null,
            "flex_flow": null,
            "grid_area": null,
            "grid_auto_columns": null,
            "grid_auto_flow": null,
            "grid_auto_rows": null,
            "grid_column": null,
            "grid_gap": null,
            "grid_row": null,
            "grid_template_areas": null,
            "grid_template_columns": null,
            "grid_template_rows": null,
            "height": null,
            "justify_content": null,
            "justify_items": null,
            "left": null,
            "margin": null,
            "max_height": null,
            "max_width": null,
            "min_height": null,
            "min_width": null,
            "object_fit": null,
            "object_position": null,
            "order": null,
            "overflow": null,
            "overflow_x": null,
            "overflow_y": null,
            "padding": null,
            "right": null,
            "top": null,
            "visibility": null,
            "width": null
          }
        },
        "b5d17dec2c674ff5a120a2869aa8a7c0": {
          "model_module": "@jupyter-widgets/controls",
          "model_module_version": "1.5.0",
          "model_name": "ProgressStyleModel",
          "state": {
            "_model_module": "@jupyter-widgets/controls",
            "_model_module_version": "1.5.0",
            "_model_name": "ProgressStyleModel",
            "_view_count": null,
            "_view_module": "@jupyter-widgets/base",
            "_view_module_version": "1.2.0",
            "_view_name": "StyleView",
            "bar_color": null,
            "description_width": ""
          }
        },
        "bdb250df43954a44b7f9492f721fef5c": {
          "model_module": "@jupyter-widgets/base",
          "model_module_version": "1.2.0",
          "model_name": "LayoutModel",
          "state": {
            "_model_module": "@jupyter-widgets/base",
            "_model_module_version": "1.2.0",
            "_model_name": "LayoutModel",
            "_view_count": null,
            "_view_module": "@jupyter-widgets/base",
            "_view_module_version": "1.2.0",
            "_view_name": "LayoutView",
            "align_content": null,
            "align_items": null,
            "align_self": null,
            "border": null,
            "bottom": null,
            "display": null,
            "flex": null,
            "flex_flow": null,
            "grid_area": null,
            "grid_auto_columns": null,
            "grid_auto_flow": null,
            "grid_auto_rows": null,
            "grid_column": null,
            "grid_gap": null,
            "grid_row": null,
            "grid_template_areas": null,
            "grid_template_columns": null,
            "grid_template_rows": null,
            "height": null,
            "justify_content": null,
            "justify_items": null,
            "left": null,
            "margin": null,
            "max_height": null,
            "max_width": null,
            "min_height": null,
            "min_width": null,
            "object_fit": null,
            "object_position": null,
            "order": null,
            "overflow": null,
            "overflow_x": null,
            "overflow_y": null,
            "padding": null,
            "right": null,
            "top": null,
            "visibility": null,
            "width": null
          }
        },
        "bec41e50275f436aaee64f5786d4a903": {
          "model_module": "@jupyter-widgets/base",
          "model_module_version": "1.2.0",
          "model_name": "LayoutModel",
          "state": {
            "_model_module": "@jupyter-widgets/base",
            "_model_module_version": "1.2.0",
            "_model_name": "LayoutModel",
            "_view_count": null,
            "_view_module": "@jupyter-widgets/base",
            "_view_module_version": "1.2.0",
            "_view_name": "LayoutView",
            "align_content": null,
            "align_items": null,
            "align_self": null,
            "border": null,
            "bottom": null,
            "display": null,
            "flex": null,
            "flex_flow": null,
            "grid_area": null,
            "grid_auto_columns": null,
            "grid_auto_flow": null,
            "grid_auto_rows": null,
            "grid_column": null,
            "grid_gap": null,
            "grid_row": null,
            "grid_template_areas": null,
            "grid_template_columns": null,
            "grid_template_rows": null,
            "height": null,
            "justify_content": null,
            "justify_items": null,
            "left": null,
            "margin": null,
            "max_height": null,
            "max_width": null,
            "min_height": null,
            "min_width": null,
            "object_fit": null,
            "object_position": null,
            "order": null,
            "overflow": null,
            "overflow_x": null,
            "overflow_y": null,
            "padding": null,
            "right": null,
            "top": null,
            "visibility": null,
            "width": null
          }
        },
        "c1d0036ddb13444e895352dd7a6785ca": {
          "model_module": "@jupyter-widgets/base",
          "model_module_version": "1.2.0",
          "model_name": "LayoutModel",
          "state": {
            "_model_module": "@jupyter-widgets/base",
            "_model_module_version": "1.2.0",
            "_model_name": "LayoutModel",
            "_view_count": null,
            "_view_module": "@jupyter-widgets/base",
            "_view_module_version": "1.2.0",
            "_view_name": "LayoutView",
            "align_content": null,
            "align_items": null,
            "align_self": null,
            "border": null,
            "bottom": null,
            "display": null,
            "flex": null,
            "flex_flow": null,
            "grid_area": null,
            "grid_auto_columns": null,
            "grid_auto_flow": null,
            "grid_auto_rows": null,
            "grid_column": null,
            "grid_gap": null,
            "grid_row": null,
            "grid_template_areas": null,
            "grid_template_columns": null,
            "grid_template_rows": null,
            "height": null,
            "justify_content": null,
            "justify_items": null,
            "left": null,
            "margin": null,
            "max_height": null,
            "max_width": null,
            "min_height": null,
            "min_width": null,
            "object_fit": null,
            "object_position": null,
            "order": null,
            "overflow": null,
            "overflow_x": null,
            "overflow_y": null,
            "padding": null,
            "right": null,
            "top": null,
            "visibility": null,
            "width": null
          }
        },
        "c31d49a90ad94260ab8e928baf98a92f": {
          "model_module": "@jupyter-widgets/controls",
          "model_module_version": "1.5.0",
          "model_name": "DescriptionStyleModel",
          "state": {
            "_model_module": "@jupyter-widgets/controls",
            "_model_module_version": "1.5.0",
            "_model_name": "DescriptionStyleModel",
            "_view_count": null,
            "_view_module": "@jupyter-widgets/base",
            "_view_module_version": "1.2.0",
            "_view_name": "StyleView",
            "description_width": ""
          }
        },
        "cc963481e96b4182956c6abc76ddb9cf": {
          "model_module": "@jupyter-widgets/controls",
          "model_module_version": "1.5.0",
          "model_name": "HBoxModel",
          "state": {
            "_dom_classes": [],
            "_model_module": "@jupyter-widgets/controls",
            "_model_module_version": "1.5.0",
            "_model_name": "HBoxModel",
            "_view_count": null,
            "_view_module": "@jupyter-widgets/controls",
            "_view_module_version": "1.5.0",
            "_view_name": "HBoxView",
            "box_style": "",
            "children": [
              "IPY_MODEL_a605474f48784c27996aa05b41482093",
              "IPY_MODEL_fdb5e284a00042cabc5c06e58b59918e",
              "IPY_MODEL_4c395162359146519c894c2f413740f5"
            ],
            "layout": "IPY_MODEL_66ed9eb52bfc4290975fc6c6f87120ad"
          }
        },
        "e7ce0575ab314e549e94ec393bf503f0": {
          "model_module": "@jupyter-widgets/controls",
          "model_module_version": "1.5.0",
          "model_name": "HTMLModel",
          "state": {
            "_dom_classes": [],
            "_model_module": "@jupyter-widgets/controls",
            "_model_module_version": "1.5.0",
            "_model_name": "HTMLModel",
            "_view_count": null,
            "_view_module": "@jupyter-widgets/controls",
            "_view_module_version": "1.5.0",
            "_view_name": "HTMLView",
            "description": "",
            "description_tooltip": null,
            "layout": "IPY_MODEL_1f9aa84b1ac240799db44b6694468c0f",
            "placeholder": "​",
            "style": "IPY_MODEL_10820f5ca8cc4a30a6fd2740307b8124",
            "value": "Lemmatizing: 100%"
          }
        },
        "e98e784106a9425987a49521dbf85e73": {
          "model_module": "@jupyter-widgets/base",
          "model_module_version": "1.2.0",
          "model_name": "LayoutModel",
          "state": {
            "_model_module": "@jupyter-widgets/base",
            "_model_module_version": "1.2.0",
            "_model_name": "LayoutModel",
            "_view_count": null,
            "_view_module": "@jupyter-widgets/base",
            "_view_module_version": "1.2.0",
            "_view_name": "LayoutView",
            "align_content": null,
            "align_items": null,
            "align_self": null,
            "border": null,
            "bottom": null,
            "display": null,
            "flex": null,
            "flex_flow": null,
            "grid_area": null,
            "grid_auto_columns": null,
            "grid_auto_flow": null,
            "grid_auto_rows": null,
            "grid_column": null,
            "grid_gap": null,
            "grid_row": null,
            "grid_template_areas": null,
            "grid_template_columns": null,
            "grid_template_rows": null,
            "height": null,
            "justify_content": null,
            "justify_items": null,
            "left": null,
            "margin": null,
            "max_height": null,
            "max_width": null,
            "min_height": null,
            "min_width": null,
            "object_fit": null,
            "object_position": null,
            "order": null,
            "overflow": null,
            "overflow_x": null,
            "overflow_y": null,
            "padding": null,
            "right": null,
            "top": null,
            "visibility": null,
            "width": null
          }
        },
        "fb9d0db4553a4762a1583c05a82aa415": {
          "model_module": "@jupyter-widgets/controls",
          "model_module_version": "1.5.0",
          "model_name": "ProgressStyleModel",
          "state": {
            "_model_module": "@jupyter-widgets/controls",
            "_model_module_version": "1.5.0",
            "_model_name": "ProgressStyleModel",
            "_view_count": null,
            "_view_module": "@jupyter-widgets/base",
            "_view_module_version": "1.2.0",
            "_view_name": "StyleView",
            "bar_color": null,
            "description_width": ""
          }
        },
        "fdb5e284a00042cabc5c06e58b59918e": {
          "model_module": "@jupyter-widgets/controls",
          "model_module_version": "1.5.0",
          "model_name": "FloatProgressModel",
          "state": {
            "_dom_classes": [],
            "_model_module": "@jupyter-widgets/controls",
            "_model_module_version": "1.5.0",
            "_model_name": "FloatProgressModel",
            "_view_count": null,
            "_view_module": "@jupyter-widgets/controls",
            "_view_module_version": "1.5.0",
            "_view_name": "ProgressView",
            "bar_style": "success",
            "description": "",
            "description_tooltip": null,
            "layout": "IPY_MODEL_bdb250df43954a44b7f9492f721fef5c",
            "max": 5,
            "min": 0,
            "orientation": "horizontal",
            "style": "IPY_MODEL_fb9d0db4553a4762a1583c05a82aa415",
            "value": 5
          }
        }
      }
    }
  },
  "nbformat": 4,
  "nbformat_minor": 0
}
